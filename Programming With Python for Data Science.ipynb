{
 "cells": [
  {
   "cell_type": "markdown",
   "metadata": {},
   "source": [
    "# Programming With Python for Data Science(EDX DAT210X)"
   ]
  },
  {
   "cell_type": "markdown",
   "metadata": {},
   "source": [
    "<h3>1. Features Premiere</h3>"
   ]
  },
  {
   "cell_type": "markdown",
   "metadata": {
    "collapsed": true
   },
   "source": [
    "To be usable by SciKit-Learn, the machine learning library for Python you'll be using in this course, your data needs to be organized into matrix of samples and features."
   ]
  },
  {
   "cell_type": "markdown",
   "metadata": {},
   "source": [
    "Samples: Rows in a dataset. (Quantitative traits)<br>\n",
    "Features: Columns in a dataset. Can be numeric/textual. (Quantitative traits that describe samplesb)"
   ]
  },
  {
   "cell_type": "markdown",
   "metadata": {},
   "source": [
    "Types of Features: <br>\n",
    "1. Continuous(like speed, distance, range, etc)\n",
    "2. Categorical\n",
    "    2.1 Ordinal (High, Medium, Low, etc)\n",
    "    2.2 Nominal (Colors, Car Models, TV Shows, etc)\n",
    "    "
   ]
  },
  {
   "cell_type": "markdown",
   "metadata": {},
   "source": [
    "<h3>2. Manipulating Data</h3>"
   ]
  },
  {
   "cell_type": "markdown",
   "metadata": {},
   "source": [
    "<b>Loading Data</b>: Once you've collected your data, the next step is learning how to manipulate it efficiently. "
   ]
  },
  {
   "cell_type": "markdown",
   "metadata": {},
   "source": [
    "Pandas is one of the most vital and actively developed high-performance data analysis libraries for Python, and you'll be using it for all your data input, output, and manipulation needs.<br>\n",
    "\n",
    "<b>import pandas as pd<b>"
   ]
  },
  {
   "cell_type": "markdown",
   "metadata": {},
   "source": [
    "There are two data structures in Pandas you need to know how to work with - <br>\n",
    "1. Series (object) -  A one-dimensional, labeled array that represents a single column in your dataset.\n",
    "2. DataFrame (object) - A collection of series (or Columns)."
   ]
  },
  {
   "cell_type": "markdown",
   "metadata": {},
   "source": [
    "To manipulate a dataset, you first need to load it into a dataframe. Different people prefer alternative methods of storing their data, so Pandas makes loading data easy no matter how it's stored. Here are some popular methods for loading data:"
   ]
  },
  {
   "cell_type": "raw",
   "metadata": {},
   "source": [
    "from sqlalchemy import create_engine\n",
    "engine = create_engine('sqlite:///:memory:')\n",
    "   \n",
    "sql_dataframe   = pd.read_sql_table('my_table', engine, columns=['ColA', 'ColB'])\n",
    "xls_dataframe   = pd.read_excel('my_dataset.xlsx', 'Sheet1', na_values=['NA', '?'])\n",
    "json_dataframe  = pd.read_json('my_dataset.json', orient='columns')\n",
    "csv_dataframe   = pd.read_csv('my_dataset.csv', sep=',')\n",
    "table_dataframe = pd.read_html('http://page.com/with/table.html')[0]"
   ]
  },
  {
   "cell_type": "markdown",
   "metadata": {},
   "source": [
    "<b>Note the return type of .read_html(), it is a Python list of dataframes, one per HTML table found on the webpage</b>"
   ]
  },
  {
   "cell_type": "markdown",
   "metadata": {},
   "source": [
    "Also make sure you understand fully what each of the following parameters do by checking the documentation:\n",
    "<ol>\n",
    "        <li>Sep - Separator: print('apple', 'orange', 'mango', sep = '_'))</li>\n",
    "         <li>delimeter - Defines a Boundary. Eg. Python's String class has a method called split() which takes a delimiter as optional argument. Default delimiter for it is whitespace. 'aa-ab-ca'.split('-')</li>\n",
    "         <li>header - column headers</li>\n",
    "         <li>names - columns</li>\n",
    "         <li>index_col - row</li>\n",
    "         <li>skipinitialspace - to strip out the whitespace from each field name</li>\n",
    "         <li>skiprows - skip row with specified index</li>\n",
    "</ol>\n",
    "         \n",
    "     "
   ]
  },
  {
   "cell_type": "markdown",
   "metadata": {},
   "source": [
    "Writing an existing dataframe back to disk is just as straightforward as reading from one:"
   ]
  },
  {
   "cell_type": "raw",
   "metadata": {},
   "source": [
    "my_dataframe.to_sql('table', engine)\n",
    "my_dataframe.to_excel('dataset.xlsx')\n",
    "my_dataframe.to_json('dataset.json')\n",
    "my_dataframe.to_csv('dataset.csv')"
   ]
  },
  {
   "cell_type": "markdown",
   "metadata": {},
   "source": [
    "Therefore if your data starts from the first line and you don't actually have a header row, ensure you pass in the names parameter (a list of column header name strings) when you call any .read_*() method. Pandas will use the provided headers in place of your first data record.\n",
    "\n",
    "If you do have column titles already defined in your dataset but wish to rename them, in that case, use the writeable .columns property:\n",
    "\n",
    "my_dataframe.columns = ['new', 'column', 'header', 'labels']"
   ]
  },
  {
   "cell_type": "markdown",
   "metadata": {},
   "source": [
    "<h4>Feature Reperesentation:</h4>"
   ]
  },
  {
   "cell_type": "markdown",
   "metadata": {},
   "source": [
    "<h6>Textual Categorical-Features:</h6> "
   ]
  },
  {
   "cell_type": "markdown",
   "metadata": {},
   "source": [
    "(1) Ordinal -  In the case of ordinals, you should create a mapping of increasing integers to each possible unique value of the feature. Any entries not found in your designated categories list will be mapped to -1:"
   ]
  },
  {
   "cell_type": "code",
   "execution_count": 8,
   "metadata": {},
   "outputs": [
    {
     "data": {
      "text/html": [
       "<div>\n",
       "<style>\n",
       "    .dataframe thead tr:only-child th {\n",
       "        text-align: right;\n",
       "    }\n",
       "\n",
       "    .dataframe thead th {\n",
       "        text-align: left;\n",
       "    }\n",
       "\n",
       "    .dataframe tbody tr th {\n",
       "        vertical-align: top;\n",
       "    }\n",
       "</style>\n",
       "<table border=\"1\" class=\"dataframe\">\n",
       "  <thead>\n",
       "    <tr style=\"text-align: right;\">\n",
       "      <th></th>\n",
       "      <th>satisfaction</th>\n",
       "    </tr>\n",
       "  </thead>\n",
       "  <tbody>\n",
       "    <tr>\n",
       "      <th>0</th>\n",
       "      <td>-1</td>\n",
       "    </tr>\n",
       "    <tr>\n",
       "      <th>1</th>\n",
       "      <td>3</td>\n",
       "    </tr>\n",
       "    <tr>\n",
       "      <th>2</th>\n",
       "      <td>1</td>\n",
       "    </tr>\n",
       "    <tr>\n",
       "      <th>3</th>\n",
       "      <td>2</td>\n",
       "    </tr>\n",
       "  </tbody>\n",
       "</table>\n",
       "</div>"
      ],
      "text/plain": [
       "   satisfaction\n",
       "0            -1\n",
       "1             3\n",
       "2             1\n",
       "3             2"
      ]
     },
     "execution_count": 8,
     "metadata": {},
     "output_type": "execute_result"
    }
   ],
   "source": [
    "ordered_satisfaction = ['Very Unhappy', 'Unhappy', 'Neutral', 'Happy', 'Very Happy']\n",
    "df = pd.DataFrame({'satisfaction':['Mad', 'Happy', 'Unhappy', 'Neutral']})\n",
    "df.satisfaction = df.satisfaction.astype(\"category\",\n",
    "  ordered=True,\n",
    "  categories=ordered_satisfaction\n",
    ").cat.codes\n",
    "df"
   ]
  },
  {
   "cell_type": "markdown",
   "metadata": {},
   "source": [
    " (2) Nominal - On the other hand, if your feature is nominal and therefore lacking any inherent numeric ordering, then you have two options. The first is you can encoded the fature similar as you did above. This would be a fast-and-dirty approach. While you're just getting accustomed to your dataset and taking it for its first run through your data analysis pipeline, this method might be the most convenient:"
   ]
  },
  {
   "cell_type": "code",
   "execution_count": 11,
   "metadata": {},
   "outputs": [
    {
     "data": {
      "text/html": [
       "<div>\n",
       "<style>\n",
       "    .dataframe thead tr:only-child th {\n",
       "        text-align: right;\n",
       "    }\n",
       "\n",
       "    .dataframe thead th {\n",
       "        text-align: left;\n",
       "    }\n",
       "\n",
       "    .dataframe tbody tr th {\n",
       "        vertical-align: top;\n",
       "    }\n",
       "</style>\n",
       "<table border=\"1\" class=\"dataframe\">\n",
       "  <thead>\n",
       "    <tr style=\"text-align: right;\">\n",
       "      <th></th>\n",
       "      <th>vertebrates</th>\n",
       "    </tr>\n",
       "  </thead>\n",
       "  <tbody>\n",
       "    <tr>\n",
       "      <th>0</th>\n",
       "      <td>1</td>\n",
       "    </tr>\n",
       "    <tr>\n",
       "      <th>1</th>\n",
       "      <td>1</td>\n",
       "    </tr>\n",
       "    <tr>\n",
       "      <th>2</th>\n",
       "      <td>3</td>\n",
       "    </tr>\n",
       "    <tr>\n",
       "      <th>3</th>\n",
       "      <td>2</td>\n",
       "    </tr>\n",
       "    <tr>\n",
       "      <th>4</th>\n",
       "      <td>0</td>\n",
       "    </tr>\n",
       "    <tr>\n",
       "      <th>5</th>\n",
       "      <td>4</td>\n",
       "    </tr>\n",
       "    <tr>\n",
       "      <th>6</th>\n",
       "      <td>3</td>\n",
       "    </tr>\n",
       "  </tbody>\n",
       "</table>\n",
       "</div>"
      ],
      "text/plain": [
       "   vertebrates\n",
       "0            1\n",
       "1            1\n",
       "2            3\n",
       "3            2\n",
       "4            0\n",
       "5            4\n",
       "6            3"
      ]
     },
     "execution_count": 11,
     "metadata": {},
     "output_type": "execute_result"
    }
   ],
   "source": [
    "df = pd.DataFrame({'vertebrates':[\n",
    "...  'Bird',\n",
    "...  'Bird',\n",
    "...  'Mammal',\n",
    "...  'Fish',\n",
    "...  'Amphibian',\n",
    "...  'Reptile',\n",
    "...  'Mammal',\n",
    "... ]})\n",
    "\n",
    "# Method 1)\n",
    "df['vertebrates'] = df.vertebrates.astype(\"category\").cat.codes\n",
    "df"
   ]
  },
  {
   "cell_type": "code",
   "execution_count": 12,
   "metadata": {},
   "outputs": [
    {
     "data": {
      "text/html": [
       "<div>\n",
       "<style>\n",
       "    .dataframe thead tr:only-child th {\n",
       "        text-align: right;\n",
       "    }\n",
       "\n",
       "    .dataframe thead th {\n",
       "        text-align: left;\n",
       "    }\n",
       "\n",
       "    .dataframe tbody tr th {\n",
       "        vertical-align: top;\n",
       "    }\n",
       "</style>\n",
       "<table border=\"1\" class=\"dataframe\">\n",
       "  <thead>\n",
       "    <tr style=\"text-align: right;\">\n",
       "      <th></th>\n",
       "      <th>vertebrates_0</th>\n",
       "      <th>vertebrates_1</th>\n",
       "      <th>vertebrates_2</th>\n",
       "      <th>vertebrates_3</th>\n",
       "      <th>vertebrates_4</th>\n",
       "    </tr>\n",
       "  </thead>\n",
       "  <tbody>\n",
       "    <tr>\n",
       "      <th>0</th>\n",
       "      <td>0</td>\n",
       "      <td>1</td>\n",
       "      <td>0</td>\n",
       "      <td>0</td>\n",
       "      <td>0</td>\n",
       "    </tr>\n",
       "    <tr>\n",
       "      <th>1</th>\n",
       "      <td>0</td>\n",
       "      <td>1</td>\n",
       "      <td>0</td>\n",
       "      <td>0</td>\n",
       "      <td>0</td>\n",
       "    </tr>\n",
       "    <tr>\n",
       "      <th>2</th>\n",
       "      <td>0</td>\n",
       "      <td>0</td>\n",
       "      <td>0</td>\n",
       "      <td>1</td>\n",
       "      <td>0</td>\n",
       "    </tr>\n",
       "    <tr>\n",
       "      <th>3</th>\n",
       "      <td>0</td>\n",
       "      <td>0</td>\n",
       "      <td>1</td>\n",
       "      <td>0</td>\n",
       "      <td>0</td>\n",
       "    </tr>\n",
       "    <tr>\n",
       "      <th>4</th>\n",
       "      <td>1</td>\n",
       "      <td>0</td>\n",
       "      <td>0</td>\n",
       "      <td>0</td>\n",
       "      <td>0</td>\n",
       "    </tr>\n",
       "    <tr>\n",
       "      <th>5</th>\n",
       "      <td>0</td>\n",
       "      <td>0</td>\n",
       "      <td>0</td>\n",
       "      <td>0</td>\n",
       "      <td>1</td>\n",
       "    </tr>\n",
       "    <tr>\n",
       "      <th>6</th>\n",
       "      <td>0</td>\n",
       "      <td>0</td>\n",
       "      <td>0</td>\n",
       "      <td>1</td>\n",
       "      <td>0</td>\n",
       "    </tr>\n",
       "  </tbody>\n",
       "</table>\n",
       "</div>"
      ],
      "text/plain": [
       "   vertebrates_0  vertebrates_1  vertebrates_2  vertebrates_3  vertebrates_4\n",
       "0              0              1              0              0              0\n",
       "1              0              1              0              0              0\n",
       "2              0              0              0              1              0\n",
       "3              0              0              1              0              0\n",
       "4              1              0              0              0              0\n",
       "5              0              0              0              0              1\n",
       "6              0              0              0              1              0"
      ]
     },
     "execution_count": 12,
     "metadata": {},
     "output_type": "execute_result"
    }
   ],
   "source": [
    "# Method 2)\n",
    "df = pd.get_dummies(df,columns=['vertebrates'])\n",
    "df"
   ]
  },
  {
   "cell_type": "markdown",
   "metadata": {},
   "source": [
    "<h6>Pure Textual Features</h6>"
   ]
  },
  {
   "cell_type": "markdown",
   "metadata": {},
   "source": [
    "If you are trying to \"featurize\" a body of text such as a webpage, a tweet, a passage from a newspaper, an entire book, or a PDF document, creating a corpus of words and counting their frequency is an extremely powerful encoding tool. This is also known as the Bag of Words model, implemented with the CountVectorizer() method in SciKit-Learn. Even though the grammar of your sentences and their word-order are completely discarded, this model has accomplished some pretty amazing things, such as being able to correctly identifying J.K. Rowling's writing from a blind line up of authors:"
   ]
  },
  {
   "cell_type": "code",
   "execution_count": 16,
   "metadata": {},
   "outputs": [
    {
     "data": {
      "text/plain": [
       "['an',\n",
       " 'and',\n",
       " 'athlete',\n",
       " 'authman',\n",
       " 'because',\n",
       " 'faster',\n",
       " 'harry',\n",
       " 'he',\n",
       " 'is',\n",
       " 'ran',\n",
       " 'than']"
      ]
     },
     "execution_count": 16,
     "metadata": {},
     "output_type": "execute_result"
    }
   ],
   "source": [
    "from sklearn.feature_extraction.text import CountVectorizer\n",
    "corpus = [ \"Authman ran faster than Harry because he is an athlete.\",  \"Authman and Harry ran faster and faster.\", ]\n",
    "bow = CountVectorizer()\n",
    "X = bow.fit_transform(corpus) # Sparse Matrix\n",
    "bow.get_feature_names()"
   ]
  },
  {
   "cell_type": "code",
   "execution_count": 17,
   "metadata": {},
   "outputs": [
    {
     "data": {
      "text/plain": [
       "array([[1, 0, 1, 1, 1, 1, 1, 1, 1, 1, 1],\n",
       "       [0, 2, 0, 1, 0, 2, 1, 0, 0, 1, 0]], dtype=int64)"
      ]
     },
     "execution_count": 17,
     "metadata": {},
     "output_type": "execute_result"
    }
   ],
   "source": [
    "X.toarray()"
   ]
  },
  {
   "cell_type": "markdown",
   "metadata": {},
   "source": [
    "<h6>Graphical Features</h6>"
   ]
  },
  {
   "cell_type": "markdown",
   "metadata": {},
   "source": [
    "In addition to text and natural language processing, bag of words has successfully been applied to images by categorizing a collection of regions and describing only their appearance, ignoring any spatial structure. However this is not the typical approach used to get images represent as features, and requires you come up with methods of categorizing image regions. More regularly used methods include:\n",
    "\n",
    "Split the image into a grid of smaller areas, and attempt feature extraction at each locality. Return a combined array of all discovered features.\n",
    "Use variable-length gradients and other transformations as the features, such as regions of high / low luminosity, histogram counts for horizontal and vertical black pixels, stroke and edge detection, etc.\n",
    "Resize the picture to a fixed size, convert it to grayscale, then encode every pixel as an element in a single-dimensional feature array.\n",
    "Let's explore how you might go about coding up the third method:"
   ]
  },
  {
   "cell_type": "raw",
   "metadata": {},
   "source": [
    "# Uses the Image module (PIL)\n",
    "from scipy import misc\n",
    "\t\n",
    "# Load the image up\n",
    "img = misc.imread(\"C:\\\\Users\\\\Akshay\\\\Desktop\\\\PyFinance\\\\DAT210x\\\\DAT210x-master\\\\Images\\\\py36.png\")\n",
    "\t\n",
    "# Is the image too big? Resample it down by an order of magnitude\n",
    "img = img[::2, ::2]\n",
    "\t\n",
    "# Scale colors from (0-255) to (0-1), then reshape to 1D array per pixel, e.g. grayscale\n",
    "# If you had color images and wanted to preserve all color channels, use .reshape(-1,3)\n",
    "X = (img / 255.0).reshape(-1)\n",
    "# Uses the Image module (PIL)\n",
    "from scipy import misc\n",
    "\t\n",
    "# Load the image up\n",
    "dset = []\n",
    "for fname in files:\n",
    "  img = misc.imread(fname)\n",
    "  dset.append(  (img[::2, ::2] / 255.0).reshape(-1)  )\n",
    "\t\n",
    "dset = pd.DataFrame( dset )"
   ]
  },
  {
   "cell_type": "markdown",
   "metadata": {},
   "source": [
    "<h6>Audio Features</h6>"
   ]
  },
  {
   "cell_type": "markdown",
   "metadata": {},
   "source": [
    "Audio can be encoded with similar methods as graphical features, with the caveat that your 'audio-image' is already a one-dimensional waveform data type instead of a two-dimensional array of pixels. Rather than looking for graphical attributes, you would look for auditory ones, such as the length of sounds, power and noise ratios, and histogram counts after applying filters."
   ]
  },
  {
   "cell_type": "raw",
   "metadata": {},
   "source": [
    "import scipy.io.wavfile as wavfile\n",
    "\t\n",
    "sample_rate, audio_data = wavfile.read('sound.wav')\n",
    "print audio_data\n",
    "\t\n",
    "# To-Do: Machine Learning with audio_data!\n",
    "#"
   ]
  },
  {
   "cell_type": "code",
   "execution_count": null,
   "metadata": {
    "collapsed": true
   },
   "outputs": [],
   "source": []
  }
 ],
 "metadata": {
  "kernelspec": {
   "display_name": "Python 3",
   "language": "python",
   "name": "python3"
  },
  "language_info": {
   "codemirror_mode": {
    "name": "ipython",
    "version": 3
   },
   "file_extension": ".py",
   "mimetype": "text/x-python",
   "name": "python",
   "nbconvert_exporter": "python",
   "pygments_lexer": "ipython3",
   "version": "3.6.1"
  }
 },
 "nbformat": 4,
 "nbformat_minor": 2
}

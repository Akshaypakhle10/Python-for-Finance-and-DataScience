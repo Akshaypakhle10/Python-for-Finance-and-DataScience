{
 "cells": [
  {
   "cell_type": "code",
   "execution_count": 27,
   "metadata": {
    "collapsed": true
   },
   "outputs": [],
   "source": [
    "import pandas as pd\n",
    "import numpy as np\n",
    "import matplotlib.pyplot as plt\n",
    "%matplotlib inline"
   ]
  },
  {
   "cell_type": "markdown",
   "metadata": {},
   "source": [
    "Series"
   ]
  },
  {
   "cell_type": "code",
   "execution_count": 3,
   "metadata": {},
   "outputs": [
    {
     "data": {
      "text/plain": [
       "0    0.669283\n",
       "1   -0.400773\n",
       "2    0.602608\n",
       "3    0.732097\n",
       "Name: daily returns, dtype: float64"
      ]
     },
     "execution_count": 3,
     "metadata": {},
     "output_type": "execute_result"
    }
   ],
   "source": [
    "s = pd.Series(np.random.randn(4), name='daily returns')\n",
    "s"
   ]
  },
  {
   "cell_type": "code",
   "execution_count": 4,
   "metadata": {},
   "outputs": [
    {
     "data": {
      "text/plain": [
       "0    66.928340\n",
       "1   -40.077277\n",
       "2    60.260839\n",
       "3    73.209685\n",
       "Name: daily returns, dtype: float64"
      ]
     },
     "execution_count": 4,
     "metadata": {},
     "output_type": "execute_result"
    }
   ],
   "source": [
    "s * 100"
   ]
  },
  {
   "cell_type": "code",
   "execution_count": 8,
   "metadata": {},
   "outputs": [
    {
     "data": {
      "text/plain": [
       "0    0.669283\n",
       "1    0.400773\n",
       "2    0.602608\n",
       "3    0.732097\n",
       "Name: daily returns, dtype: float64"
      ]
     },
     "execution_count": 8,
     "metadata": {},
     "output_type": "execute_result"
    }
   ],
   "source": [
    "np.abs(s)"
   ]
  },
  {
   "cell_type": "code",
   "execution_count": 9,
   "metadata": {},
   "outputs": [
    {
     "data": {
      "text/plain": [
       "count    4.000000\n",
       "mean     0.400804\n",
       "std      0.536994\n",
       "min     -0.400773\n",
       "25%      0.351763\n",
       "50%      0.635946\n",
       "75%      0.684987\n",
       "max      0.732097\n",
       "Name: daily returns, dtype: float64"
      ]
     },
     "execution_count": 9,
     "metadata": {},
     "output_type": "execute_result"
    }
   ],
   "source": [
    "s.describe()"
   ]
  },
  {
   "cell_type": "code",
   "execution_count": 10,
   "metadata": {},
   "outputs": [
    {
     "data": {
      "text/plain": [
       "AMZN    0.669283\n",
       "AAPL   -0.400773\n",
       "MSFT    0.602608\n",
       "GOOG    0.732097\n",
       "Name: daily returns, dtype: float64"
      ]
     },
     "execution_count": 10,
     "metadata": {},
     "output_type": "execute_result"
    }
   ],
   "source": [
    "s.index = ['AMZN', 'AAPL', 'MSFT', 'GOOG']\n",
    "s"
   ]
  },
  {
   "cell_type": "code",
   "execution_count": 11,
   "metadata": {},
   "outputs": [
    {
     "data": {
      "text/plain": [
       "0.66928340331009994"
      ]
     },
     "execution_count": 11,
     "metadata": {},
     "output_type": "execute_result"
    }
   ],
   "source": [
    "s['AMZN']"
   ]
  },
  {
   "cell_type": "code",
   "execution_count": 12,
   "metadata": {},
   "outputs": [
    {
     "data": {
      "text/plain": [
       "AMZN    0.000000\n",
       "AAPL   -0.400773\n",
       "MSFT    0.602608\n",
       "GOOG    0.732097\n",
       "Name: daily returns, dtype: float64"
      ]
     },
     "execution_count": 12,
     "metadata": {},
     "output_type": "execute_result"
    }
   ],
   "source": [
    "s['AMZN'] = 0\n",
    "s"
   ]
  },
  {
   "cell_type": "markdown",
   "metadata": {},
   "source": [
    "DataFrames"
   ]
  },
  {
   "cell_type": "code",
   "execution_count": 15,
   "metadata": {},
   "outputs": [
    {
     "data": {
      "text/plain": [
       "'C:\\\\Users\\\\Akshay\\\\Desktop\\\\PyFinance'"
      ]
     },
     "execution_count": 15,
     "metadata": {},
     "output_type": "execute_result"
    }
   ],
   "source": [
    "%pwd"
   ]
  },
  {
   "cell_type": "code",
   "execution_count": 16,
   "metadata": {},
   "outputs": [
    {
     "data": {
      "text/plain": [
       "pandas.core.frame.DataFrame"
      ]
     },
     "execution_count": 16,
     "metadata": {},
     "output_type": "execute_result"
    }
   ],
   "source": [
    "df = pd.read_csv('https://github.com/QuantEcon/QuantEcon.lectures.code/raw/master/pandas/data/test_pwt.csv')\n",
    "type(df)"
   ]
  },
  {
   "cell_type": "code",
   "execution_count": 17,
   "metadata": {},
   "outputs": [
    {
     "data": {
      "text/html": [
       "<div>\n",
       "<style>\n",
       "    .dataframe thead tr:only-child th {\n",
       "        text-align: right;\n",
       "    }\n",
       "\n",
       "    .dataframe thead th {\n",
       "        text-align: left;\n",
       "    }\n",
       "\n",
       "    .dataframe tbody tr th {\n",
       "        vertical-align: top;\n",
       "    }\n",
       "</style>\n",
       "<table border=\"1\" class=\"dataframe\">\n",
       "  <thead>\n",
       "    <tr style=\"text-align: right;\">\n",
       "      <th></th>\n",
       "      <th>country</th>\n",
       "      <th>country isocode</th>\n",
       "      <th>year</th>\n",
       "      <th>POP</th>\n",
       "      <th>XRAT</th>\n",
       "      <th>tcgdp</th>\n",
       "      <th>cc</th>\n",
       "      <th>cg</th>\n",
       "    </tr>\n",
       "  </thead>\n",
       "  <tbody>\n",
       "    <tr>\n",
       "      <th>0</th>\n",
       "      <td>Argentina</td>\n",
       "      <td>ARG</td>\n",
       "      <td>2000</td>\n",
       "      <td>37335.653</td>\n",
       "      <td>0.999500</td>\n",
       "      <td>2.950722e+05</td>\n",
       "      <td>75.716805</td>\n",
       "      <td>5.578804</td>\n",
       "    </tr>\n",
       "    <tr>\n",
       "      <th>1</th>\n",
       "      <td>Australia</td>\n",
       "      <td>AUS</td>\n",
       "      <td>2000</td>\n",
       "      <td>19053.186</td>\n",
       "      <td>1.724830</td>\n",
       "      <td>5.418047e+05</td>\n",
       "      <td>67.759026</td>\n",
       "      <td>6.720098</td>\n",
       "    </tr>\n",
       "    <tr>\n",
       "      <th>2</th>\n",
       "      <td>India</td>\n",
       "      <td>IND</td>\n",
       "      <td>2000</td>\n",
       "      <td>1006300.297</td>\n",
       "      <td>44.941600</td>\n",
       "      <td>1.728144e+06</td>\n",
       "      <td>64.575551</td>\n",
       "      <td>14.072206</td>\n",
       "    </tr>\n",
       "    <tr>\n",
       "      <th>3</th>\n",
       "      <td>Israel</td>\n",
       "      <td>ISR</td>\n",
       "      <td>2000</td>\n",
       "      <td>6114.570</td>\n",
       "      <td>4.077330</td>\n",
       "      <td>1.292539e+05</td>\n",
       "      <td>64.436451</td>\n",
       "      <td>10.266688</td>\n",
       "    </tr>\n",
       "    <tr>\n",
       "      <th>4</th>\n",
       "      <td>Malawi</td>\n",
       "      <td>MWI</td>\n",
       "      <td>2000</td>\n",
       "      <td>11801.505</td>\n",
       "      <td>59.543808</td>\n",
       "      <td>5.026222e+03</td>\n",
       "      <td>74.707624</td>\n",
       "      <td>11.658954</td>\n",
       "    </tr>\n",
       "    <tr>\n",
       "      <th>5</th>\n",
       "      <td>South Africa</td>\n",
       "      <td>ZAF</td>\n",
       "      <td>2000</td>\n",
       "      <td>45064.098</td>\n",
       "      <td>6.939830</td>\n",
       "      <td>2.272424e+05</td>\n",
       "      <td>72.718710</td>\n",
       "      <td>5.726546</td>\n",
       "    </tr>\n",
       "    <tr>\n",
       "      <th>6</th>\n",
       "      <td>United States</td>\n",
       "      <td>USA</td>\n",
       "      <td>2000</td>\n",
       "      <td>282171.957</td>\n",
       "      <td>1.000000</td>\n",
       "      <td>9.898700e+06</td>\n",
       "      <td>72.347054</td>\n",
       "      <td>6.032454</td>\n",
       "    </tr>\n",
       "    <tr>\n",
       "      <th>7</th>\n",
       "      <td>Uruguay</td>\n",
       "      <td>URY</td>\n",
       "      <td>2000</td>\n",
       "      <td>3219.793</td>\n",
       "      <td>12.099592</td>\n",
       "      <td>2.525596e+04</td>\n",
       "      <td>78.978740</td>\n",
       "      <td>5.108068</td>\n",
       "    </tr>\n",
       "  </tbody>\n",
       "</table>\n",
       "</div>"
      ],
      "text/plain": [
       "         country country isocode  year          POP       XRAT         tcgdp  \\\n",
       "0      Argentina             ARG  2000    37335.653   0.999500  2.950722e+05   \n",
       "1      Australia             AUS  2000    19053.186   1.724830  5.418047e+05   \n",
       "2          India             IND  2000  1006300.297  44.941600  1.728144e+06   \n",
       "3         Israel             ISR  2000     6114.570   4.077330  1.292539e+05   \n",
       "4         Malawi             MWI  2000    11801.505  59.543808  5.026222e+03   \n",
       "5   South Africa             ZAF  2000    45064.098   6.939830  2.272424e+05   \n",
       "6  United States             USA  2000   282171.957   1.000000  9.898700e+06   \n",
       "7        Uruguay             URY  2000     3219.793  12.099592  2.525596e+04   \n",
       "\n",
       "          cc         cg  \n",
       "0  75.716805   5.578804  \n",
       "1  67.759026   6.720098  \n",
       "2  64.575551  14.072206  \n",
       "3  64.436451  10.266688  \n",
       "4  74.707624  11.658954  \n",
       "5  72.718710   5.726546  \n",
       "6  72.347054   6.032454  \n",
       "7  78.978740   5.108068  "
      ]
     },
     "execution_count": 17,
     "metadata": {},
     "output_type": "execute_result"
    }
   ],
   "source": [
    "df"
   ]
  },
  {
   "cell_type": "code",
   "execution_count": 18,
   "metadata": {},
   "outputs": [
    {
     "data": {
      "text/html": [
       "<div>\n",
       "<style>\n",
       "    .dataframe thead tr:only-child th {\n",
       "        text-align: right;\n",
       "    }\n",
       "\n",
       "    .dataframe thead th {\n",
       "        text-align: left;\n",
       "    }\n",
       "\n",
       "    .dataframe tbody tr th {\n",
       "        vertical-align: top;\n",
       "    }\n",
       "</style>\n",
       "<table border=\"1\" class=\"dataframe\">\n",
       "  <thead>\n",
       "    <tr style=\"text-align: right;\">\n",
       "      <th></th>\n",
       "      <th>country</th>\n",
       "      <th>country isocode</th>\n",
       "      <th>year</th>\n",
       "      <th>POP</th>\n",
       "      <th>XRAT</th>\n",
       "      <th>tcgdp</th>\n",
       "      <th>cc</th>\n",
       "      <th>cg</th>\n",
       "    </tr>\n",
       "  </thead>\n",
       "  <tbody>\n",
       "    <tr>\n",
       "      <th>2</th>\n",
       "      <td>India</td>\n",
       "      <td>IND</td>\n",
       "      <td>2000</td>\n",
       "      <td>1006300.297</td>\n",
       "      <td>44.941600</td>\n",
       "      <td>1.728144e+06</td>\n",
       "      <td>64.575551</td>\n",
       "      <td>14.072206</td>\n",
       "    </tr>\n",
       "    <tr>\n",
       "      <th>3</th>\n",
       "      <td>Israel</td>\n",
       "      <td>ISR</td>\n",
       "      <td>2000</td>\n",
       "      <td>6114.570</td>\n",
       "      <td>4.077330</td>\n",
       "      <td>1.292539e+05</td>\n",
       "      <td>64.436451</td>\n",
       "      <td>10.266688</td>\n",
       "    </tr>\n",
       "    <tr>\n",
       "      <th>4</th>\n",
       "      <td>Malawi</td>\n",
       "      <td>MWI</td>\n",
       "      <td>2000</td>\n",
       "      <td>11801.505</td>\n",
       "      <td>59.543808</td>\n",
       "      <td>5.026222e+03</td>\n",
       "      <td>74.707624</td>\n",
       "      <td>11.658954</td>\n",
       "    </tr>\n",
       "  </tbody>\n",
       "</table>\n",
       "</div>"
      ],
      "text/plain": [
       "  country country isocode  year          POP       XRAT         tcgdp  \\\n",
       "2   India             IND  2000  1006300.297  44.941600  1.728144e+06   \n",
       "3  Israel             ISR  2000     6114.570   4.077330  1.292539e+05   \n",
       "4  Malawi             MWI  2000    11801.505  59.543808  5.026222e+03   \n",
       "\n",
       "          cc         cg  \n",
       "2  64.575551  14.072206  \n",
       "3  64.436451  10.266688  \n",
       "4  74.707624  11.658954  "
      ]
     },
     "execution_count": 18,
     "metadata": {},
     "output_type": "execute_result"
    }
   ],
   "source": [
    "df[2:5]"
   ]
  },
  {
   "cell_type": "code",
   "execution_count": 19,
   "metadata": {},
   "outputs": [
    {
     "data": {
      "text/html": [
       "<div>\n",
       "<style>\n",
       "    .dataframe thead tr:only-child th {\n",
       "        text-align: right;\n",
       "    }\n",
       "\n",
       "    .dataframe thead th {\n",
       "        text-align: left;\n",
       "    }\n",
       "\n",
       "    .dataframe tbody tr th {\n",
       "        vertical-align: top;\n",
       "    }\n",
       "</style>\n",
       "<table border=\"1\" class=\"dataframe\">\n",
       "  <thead>\n",
       "    <tr style=\"text-align: right;\">\n",
       "      <th></th>\n",
       "      <th>country</th>\n",
       "      <th>tcgdp</th>\n",
       "    </tr>\n",
       "  </thead>\n",
       "  <tbody>\n",
       "    <tr>\n",
       "      <th>0</th>\n",
       "      <td>Argentina</td>\n",
       "      <td>2.950722e+05</td>\n",
       "    </tr>\n",
       "    <tr>\n",
       "      <th>1</th>\n",
       "      <td>Australia</td>\n",
       "      <td>5.418047e+05</td>\n",
       "    </tr>\n",
       "    <tr>\n",
       "      <th>2</th>\n",
       "      <td>India</td>\n",
       "      <td>1.728144e+06</td>\n",
       "    </tr>\n",
       "    <tr>\n",
       "      <th>3</th>\n",
       "      <td>Israel</td>\n",
       "      <td>1.292539e+05</td>\n",
       "    </tr>\n",
       "    <tr>\n",
       "      <th>4</th>\n",
       "      <td>Malawi</td>\n",
       "      <td>5.026222e+03</td>\n",
       "    </tr>\n",
       "    <tr>\n",
       "      <th>5</th>\n",
       "      <td>South Africa</td>\n",
       "      <td>2.272424e+05</td>\n",
       "    </tr>\n",
       "    <tr>\n",
       "      <th>6</th>\n",
       "      <td>United States</td>\n",
       "      <td>9.898700e+06</td>\n",
       "    </tr>\n",
       "    <tr>\n",
       "      <th>7</th>\n",
       "      <td>Uruguay</td>\n",
       "      <td>2.525596e+04</td>\n",
       "    </tr>\n",
       "  </tbody>\n",
       "</table>\n",
       "</div>"
      ],
      "text/plain": [
       "         country         tcgdp\n",
       "0      Argentina  2.950722e+05\n",
       "1      Australia  5.418047e+05\n",
       "2          India  1.728144e+06\n",
       "3         Israel  1.292539e+05\n",
       "4         Malawi  5.026222e+03\n",
       "5   South Africa  2.272424e+05\n",
       "6  United States  9.898700e+06\n",
       "7        Uruguay  2.525596e+04"
      ]
     },
     "execution_count": 19,
     "metadata": {},
     "output_type": "execute_result"
    }
   ],
   "source": [
    "df[['country', 'tcgdp']]"
   ]
  },
  {
   "cell_type": "markdown",
   "metadata": {},
   "source": [
    "To select both rows and columns using integers, the iloc attribute should be used with the format .iloc[rows,columns]"
   ]
  },
  {
   "cell_type": "code",
   "execution_count": 20,
   "metadata": {},
   "outputs": [
    {
     "data": {
      "text/html": [
       "<div>\n",
       "<style>\n",
       "    .dataframe thead tr:only-child th {\n",
       "        text-align: right;\n",
       "    }\n",
       "\n",
       "    .dataframe thead th {\n",
       "        text-align: left;\n",
       "    }\n",
       "\n",
       "    .dataframe tbody tr th {\n",
       "        vertical-align: top;\n",
       "    }\n",
       "</style>\n",
       "<table border=\"1\" class=\"dataframe\">\n",
       "  <thead>\n",
       "    <tr style=\"text-align: right;\">\n",
       "      <th></th>\n",
       "      <th>country</th>\n",
       "      <th>country isocode</th>\n",
       "      <th>year</th>\n",
       "      <th>POP</th>\n",
       "    </tr>\n",
       "  </thead>\n",
       "  <tbody>\n",
       "    <tr>\n",
       "      <th>2</th>\n",
       "      <td>India</td>\n",
       "      <td>IND</td>\n",
       "      <td>2000</td>\n",
       "      <td>1006300.297</td>\n",
       "    </tr>\n",
       "    <tr>\n",
       "      <th>3</th>\n",
       "      <td>Israel</td>\n",
       "      <td>ISR</td>\n",
       "      <td>2000</td>\n",
       "      <td>6114.570</td>\n",
       "    </tr>\n",
       "    <tr>\n",
       "      <th>4</th>\n",
       "      <td>Malawi</td>\n",
       "      <td>MWI</td>\n",
       "      <td>2000</td>\n",
       "      <td>11801.505</td>\n",
       "    </tr>\n",
       "  </tbody>\n",
       "</table>\n",
       "</div>"
      ],
      "text/plain": [
       "  country country isocode  year          POP\n",
       "2   India             IND  2000  1006300.297\n",
       "3  Israel             ISR  2000     6114.570\n",
       "4  Malawi             MWI  2000    11801.505"
      ]
     },
     "execution_count": 20,
     "metadata": {},
     "output_type": "execute_result"
    }
   ],
   "source": [
    "df.iloc[2:5, 0:4]"
   ]
  },
  {
   "cell_type": "markdown",
   "metadata": {},
   "source": [
    "To select rows and columns using a mixture of integers and labels, the loc attribute can be used in a similar way"
   ]
  },
  {
   "cell_type": "code",
   "execution_count": 21,
   "metadata": {},
   "outputs": [
    {
     "data": {
      "text/html": [
       "<div>\n",
       "<style>\n",
       "    .dataframe thead tr:only-child th {\n",
       "        text-align: right;\n",
       "    }\n",
       "\n",
       "    .dataframe thead th {\n",
       "        text-align: left;\n",
       "    }\n",
       "\n",
       "    .dataframe tbody tr th {\n",
       "        vertical-align: top;\n",
       "    }\n",
       "</style>\n",
       "<table border=\"1\" class=\"dataframe\">\n",
       "  <thead>\n",
       "    <tr style=\"text-align: right;\">\n",
       "      <th></th>\n",
       "      <th>country</th>\n",
       "      <th>tcgdp</th>\n",
       "    </tr>\n",
       "  </thead>\n",
       "  <tbody>\n",
       "    <tr>\n",
       "      <th>2</th>\n",
       "      <td>India</td>\n",
       "      <td>1.728144e+06</td>\n",
       "    </tr>\n",
       "    <tr>\n",
       "      <th>3</th>\n",
       "      <td>Israel</td>\n",
       "      <td>1.292539e+05</td>\n",
       "    </tr>\n",
       "    <tr>\n",
       "      <th>4</th>\n",
       "      <td>Malawi</td>\n",
       "      <td>5.026222e+03</td>\n",
       "    </tr>\n",
       "  </tbody>\n",
       "</table>\n",
       "</div>"
      ],
      "text/plain": [
       "  country         tcgdp\n",
       "2   India  1.728144e+06\n",
       "3  Israel  1.292539e+05\n",
       "4  Malawi  5.026222e+03"
      ]
     },
     "execution_count": 21,
     "metadata": {},
     "output_type": "execute_result"
    }
   ],
   "source": [
    "df.loc[df.index[2:5], ['country', 'tcgdp']]"
   ]
  },
  {
   "cell_type": "code",
   "execution_count": 22,
   "metadata": {},
   "outputs": [
    {
     "data": {
      "text/html": [
       "<div>\n",
       "<style>\n",
       "    .dataframe thead tr:only-child th {\n",
       "        text-align: right;\n",
       "    }\n",
       "\n",
       "    .dataframe thead th {\n",
       "        text-align: left;\n",
       "    }\n",
       "\n",
       "    .dataframe tbody tr th {\n",
       "        vertical-align: top;\n",
       "    }\n",
       "</style>\n",
       "<table border=\"1\" class=\"dataframe\">\n",
       "  <thead>\n",
       "    <tr style=\"text-align: right;\">\n",
       "      <th></th>\n",
       "      <th>country</th>\n",
       "      <th>POP</th>\n",
       "      <th>tcgdp</th>\n",
       "    </tr>\n",
       "  </thead>\n",
       "  <tbody>\n",
       "    <tr>\n",
       "      <th>0</th>\n",
       "      <td>Argentina</td>\n",
       "      <td>37335.653</td>\n",
       "      <td>2.950722e+05</td>\n",
       "    </tr>\n",
       "    <tr>\n",
       "      <th>1</th>\n",
       "      <td>Australia</td>\n",
       "      <td>19053.186</td>\n",
       "      <td>5.418047e+05</td>\n",
       "    </tr>\n",
       "    <tr>\n",
       "      <th>2</th>\n",
       "      <td>India</td>\n",
       "      <td>1006300.297</td>\n",
       "      <td>1.728144e+06</td>\n",
       "    </tr>\n",
       "    <tr>\n",
       "      <th>3</th>\n",
       "      <td>Israel</td>\n",
       "      <td>6114.570</td>\n",
       "      <td>1.292539e+05</td>\n",
       "    </tr>\n",
       "    <tr>\n",
       "      <th>4</th>\n",
       "      <td>Malawi</td>\n",
       "      <td>11801.505</td>\n",
       "      <td>5.026222e+03</td>\n",
       "    </tr>\n",
       "    <tr>\n",
       "      <th>5</th>\n",
       "      <td>South Africa</td>\n",
       "      <td>45064.098</td>\n",
       "      <td>2.272424e+05</td>\n",
       "    </tr>\n",
       "    <tr>\n",
       "      <th>6</th>\n",
       "      <td>United States</td>\n",
       "      <td>282171.957</td>\n",
       "      <td>9.898700e+06</td>\n",
       "    </tr>\n",
       "    <tr>\n",
       "      <th>7</th>\n",
       "      <td>Uruguay</td>\n",
       "      <td>3219.793</td>\n",
       "      <td>2.525596e+04</td>\n",
       "    </tr>\n",
       "  </tbody>\n",
       "</table>\n",
       "</div>"
      ],
      "text/plain": [
       "         country          POP         tcgdp\n",
       "0      Argentina    37335.653  2.950722e+05\n",
       "1      Australia    19053.186  5.418047e+05\n",
       "2          India  1006300.297  1.728144e+06\n",
       "3         Israel     6114.570  1.292539e+05\n",
       "4         Malawi    11801.505  5.026222e+03\n",
       "5   South Africa    45064.098  2.272424e+05\n",
       "6  United States   282171.957  9.898700e+06\n",
       "7        Uruguay     3219.793  2.525596e+04"
      ]
     },
     "execution_count": 22,
     "metadata": {},
     "output_type": "execute_result"
    }
   ],
   "source": [
    "df = df[['country', 'POP', 'tcgdp']]\n",
    "df"
   ]
  },
  {
   "cell_type": "code",
   "execution_count": 23,
   "metadata": {},
   "outputs": [
    {
     "data": {
      "text/html": [
       "<div>\n",
       "<style>\n",
       "    .dataframe thead tr:only-child th {\n",
       "        text-align: right;\n",
       "    }\n",
       "\n",
       "    .dataframe thead th {\n",
       "        text-align: left;\n",
       "    }\n",
       "\n",
       "    .dataframe tbody tr th {\n",
       "        vertical-align: top;\n",
       "    }\n",
       "</style>\n",
       "<table border=\"1\" class=\"dataframe\">\n",
       "  <thead>\n",
       "    <tr style=\"text-align: right;\">\n",
       "      <th></th>\n",
       "      <th>POP</th>\n",
       "      <th>tcgdp</th>\n",
       "    </tr>\n",
       "    <tr>\n",
       "      <th>country</th>\n",
       "      <th></th>\n",
       "      <th></th>\n",
       "    </tr>\n",
       "  </thead>\n",
       "  <tbody>\n",
       "    <tr>\n",
       "      <th>Argentina</th>\n",
       "      <td>37335.653</td>\n",
       "      <td>2.950722e+05</td>\n",
       "    </tr>\n",
       "    <tr>\n",
       "      <th>Australia</th>\n",
       "      <td>19053.186</td>\n",
       "      <td>5.418047e+05</td>\n",
       "    </tr>\n",
       "    <tr>\n",
       "      <th>India</th>\n",
       "      <td>1006300.297</td>\n",
       "      <td>1.728144e+06</td>\n",
       "    </tr>\n",
       "    <tr>\n",
       "      <th>Israel</th>\n",
       "      <td>6114.570</td>\n",
       "      <td>1.292539e+05</td>\n",
       "    </tr>\n",
       "    <tr>\n",
       "      <th>Malawi</th>\n",
       "      <td>11801.505</td>\n",
       "      <td>5.026222e+03</td>\n",
       "    </tr>\n",
       "    <tr>\n",
       "      <th>South Africa</th>\n",
       "      <td>45064.098</td>\n",
       "      <td>2.272424e+05</td>\n",
       "    </tr>\n",
       "    <tr>\n",
       "      <th>United States</th>\n",
       "      <td>282171.957</td>\n",
       "      <td>9.898700e+06</td>\n",
       "    </tr>\n",
       "    <tr>\n",
       "      <th>Uruguay</th>\n",
       "      <td>3219.793</td>\n",
       "      <td>2.525596e+04</td>\n",
       "    </tr>\n",
       "  </tbody>\n",
       "</table>\n",
       "</div>"
      ],
      "text/plain": [
       "                       POP         tcgdp\n",
       "country                                 \n",
       "Argentina        37335.653  2.950722e+05\n",
       "Australia        19053.186  5.418047e+05\n",
       "India          1006300.297  1.728144e+06\n",
       "Israel            6114.570  1.292539e+05\n",
       "Malawi           11801.505  5.026222e+03\n",
       "South Africa     45064.098  2.272424e+05\n",
       "United States   282171.957  9.898700e+06\n",
       "Uruguay           3219.793  2.525596e+04"
      ]
     },
     "execution_count": 23,
     "metadata": {},
     "output_type": "execute_result"
    }
   ],
   "source": [
    "df = df.set_index('country')\n",
    "df"
   ]
  },
  {
   "cell_type": "code",
   "execution_count": 24,
   "metadata": {},
   "outputs": [
    {
     "data": {
      "text/html": [
       "<div>\n",
       "<style>\n",
       "    .dataframe thead tr:only-child th {\n",
       "        text-align: right;\n",
       "    }\n",
       "\n",
       "    .dataframe thead th {\n",
       "        text-align: left;\n",
       "    }\n",
       "\n",
       "    .dataframe tbody tr th {\n",
       "        vertical-align: top;\n",
       "    }\n",
       "</style>\n",
       "<table border=\"1\" class=\"dataframe\">\n",
       "  <thead>\n",
       "    <tr style=\"text-align: right;\">\n",
       "      <th></th>\n",
       "      <th>population</th>\n",
       "      <th>total GDP</th>\n",
       "    </tr>\n",
       "    <tr>\n",
       "      <th>country</th>\n",
       "      <th></th>\n",
       "      <th></th>\n",
       "    </tr>\n",
       "  </thead>\n",
       "  <tbody>\n",
       "    <tr>\n",
       "      <th>Argentina</th>\n",
       "      <td>37335.653</td>\n",
       "      <td>2.950722e+05</td>\n",
       "    </tr>\n",
       "    <tr>\n",
       "      <th>Australia</th>\n",
       "      <td>19053.186</td>\n",
       "      <td>5.418047e+05</td>\n",
       "    </tr>\n",
       "    <tr>\n",
       "      <th>India</th>\n",
       "      <td>1006300.297</td>\n",
       "      <td>1.728144e+06</td>\n",
       "    </tr>\n",
       "    <tr>\n",
       "      <th>Israel</th>\n",
       "      <td>6114.570</td>\n",
       "      <td>1.292539e+05</td>\n",
       "    </tr>\n",
       "    <tr>\n",
       "      <th>Malawi</th>\n",
       "      <td>11801.505</td>\n",
       "      <td>5.026222e+03</td>\n",
       "    </tr>\n",
       "    <tr>\n",
       "      <th>South Africa</th>\n",
       "      <td>45064.098</td>\n",
       "      <td>2.272424e+05</td>\n",
       "    </tr>\n",
       "    <tr>\n",
       "      <th>United States</th>\n",
       "      <td>282171.957</td>\n",
       "      <td>9.898700e+06</td>\n",
       "    </tr>\n",
       "    <tr>\n",
       "      <th>Uruguay</th>\n",
       "      <td>3219.793</td>\n",
       "      <td>2.525596e+04</td>\n",
       "    </tr>\n",
       "  </tbody>\n",
       "</table>\n",
       "</div>"
      ],
      "text/plain": [
       "                population     total GDP\n",
       "country                                 \n",
       "Argentina        37335.653  2.950722e+05\n",
       "Australia        19053.186  5.418047e+05\n",
       "India          1006300.297  1.728144e+06\n",
       "Israel            6114.570  1.292539e+05\n",
       "Malawi           11801.505  5.026222e+03\n",
       "South Africa     45064.098  2.272424e+05\n",
       "United States   282171.957  9.898700e+06\n",
       "Uruguay           3219.793  2.525596e+04"
      ]
     },
     "execution_count": 24,
     "metadata": {},
     "output_type": "execute_result"
    }
   ],
   "source": [
    "df.columns = 'population', 'total GDP'\n",
    "df"
   ]
  },
  {
   "cell_type": "code",
   "execution_count": 25,
   "metadata": {},
   "outputs": [
    {
     "data": {
      "text/html": [
       "<div>\n",
       "<style>\n",
       "    .dataframe thead tr:only-child th {\n",
       "        text-align: right;\n",
       "    }\n",
       "\n",
       "    .dataframe thead th {\n",
       "        text-align: left;\n",
       "    }\n",
       "\n",
       "    .dataframe tbody tr th {\n",
       "        vertical-align: top;\n",
       "    }\n",
       "</style>\n",
       "<table border=\"1\" class=\"dataframe\">\n",
       "  <thead>\n",
       "    <tr style=\"text-align: right;\">\n",
       "      <th></th>\n",
       "      <th>population</th>\n",
       "      <th>total GDP</th>\n",
       "    </tr>\n",
       "    <tr>\n",
       "      <th>country</th>\n",
       "      <th></th>\n",
       "      <th></th>\n",
       "    </tr>\n",
       "  </thead>\n",
       "  <tbody>\n",
       "    <tr>\n",
       "      <th>Argentina</th>\n",
       "      <td>3.733565e+07</td>\n",
       "      <td>2.950722e+05</td>\n",
       "    </tr>\n",
       "    <tr>\n",
       "      <th>Australia</th>\n",
       "      <td>1.905319e+07</td>\n",
       "      <td>5.418047e+05</td>\n",
       "    </tr>\n",
       "    <tr>\n",
       "      <th>India</th>\n",
       "      <td>1.006300e+09</td>\n",
       "      <td>1.728144e+06</td>\n",
       "    </tr>\n",
       "    <tr>\n",
       "      <th>Israel</th>\n",
       "      <td>6.114570e+06</td>\n",
       "      <td>1.292539e+05</td>\n",
       "    </tr>\n",
       "    <tr>\n",
       "      <th>Malawi</th>\n",
       "      <td>1.180150e+07</td>\n",
       "      <td>5.026222e+03</td>\n",
       "    </tr>\n",
       "    <tr>\n",
       "      <th>South Africa</th>\n",
       "      <td>4.506410e+07</td>\n",
       "      <td>2.272424e+05</td>\n",
       "    </tr>\n",
       "    <tr>\n",
       "      <th>United States</th>\n",
       "      <td>2.821720e+08</td>\n",
       "      <td>9.898700e+06</td>\n",
       "    </tr>\n",
       "    <tr>\n",
       "      <th>Uruguay</th>\n",
       "      <td>3.219793e+06</td>\n",
       "      <td>2.525596e+04</td>\n",
       "    </tr>\n",
       "  </tbody>\n",
       "</table>\n",
       "</div>"
      ],
      "text/plain": [
       "                 population     total GDP\n",
       "country                                  \n",
       "Argentina      3.733565e+07  2.950722e+05\n",
       "Australia      1.905319e+07  5.418047e+05\n",
       "India          1.006300e+09  1.728144e+06\n",
       "Israel         6.114570e+06  1.292539e+05\n",
       "Malawi         1.180150e+07  5.026222e+03\n",
       "South Africa   4.506410e+07  2.272424e+05\n",
       "United States  2.821720e+08  9.898700e+06\n",
       "Uruguay        3.219793e+06  2.525596e+04"
      ]
     },
     "execution_count": 25,
     "metadata": {},
     "output_type": "execute_result"
    }
   ],
   "source": [
    "df['population'] = df['population'] * 1e3\n",
    "df"
   ]
  },
  {
   "cell_type": "code",
   "execution_count": 26,
   "metadata": {},
   "outputs": [
    {
     "data": {
      "text/html": [
       "<div>\n",
       "<style>\n",
       "    .dataframe thead tr:only-child th {\n",
       "        text-align: right;\n",
       "    }\n",
       "\n",
       "    .dataframe thead th {\n",
       "        text-align: left;\n",
       "    }\n",
       "\n",
       "    .dataframe tbody tr th {\n",
       "        vertical-align: top;\n",
       "    }\n",
       "</style>\n",
       "<table border=\"1\" class=\"dataframe\">\n",
       "  <thead>\n",
       "    <tr style=\"text-align: right;\">\n",
       "      <th></th>\n",
       "      <th>population</th>\n",
       "      <th>total GDP</th>\n",
       "      <th>GDP percap</th>\n",
       "    </tr>\n",
       "    <tr>\n",
       "      <th>country</th>\n",
       "      <th></th>\n",
       "      <th></th>\n",
       "      <th></th>\n",
       "    </tr>\n",
       "  </thead>\n",
       "  <tbody>\n",
       "    <tr>\n",
       "      <th>Argentina</th>\n",
       "      <td>3.733565e+07</td>\n",
       "      <td>2.950722e+05</td>\n",
       "      <td>7903.229085</td>\n",
       "    </tr>\n",
       "    <tr>\n",
       "      <th>Australia</th>\n",
       "      <td>1.905319e+07</td>\n",
       "      <td>5.418047e+05</td>\n",
       "      <td>28436.433261</td>\n",
       "    </tr>\n",
       "    <tr>\n",
       "      <th>India</th>\n",
       "      <td>1.006300e+09</td>\n",
       "      <td>1.728144e+06</td>\n",
       "      <td>1717.324719</td>\n",
       "    </tr>\n",
       "    <tr>\n",
       "      <th>Israel</th>\n",
       "      <td>6.114570e+06</td>\n",
       "      <td>1.292539e+05</td>\n",
       "      <td>21138.672749</td>\n",
       "    </tr>\n",
       "    <tr>\n",
       "      <th>Malawi</th>\n",
       "      <td>1.180150e+07</td>\n",
       "      <td>5.026222e+03</td>\n",
       "      <td>425.896679</td>\n",
       "    </tr>\n",
       "    <tr>\n",
       "      <th>South Africa</th>\n",
       "      <td>4.506410e+07</td>\n",
       "      <td>2.272424e+05</td>\n",
       "      <td>5042.647686</td>\n",
       "    </tr>\n",
       "    <tr>\n",
       "      <th>United States</th>\n",
       "      <td>2.821720e+08</td>\n",
       "      <td>9.898700e+06</td>\n",
       "      <td>35080.381854</td>\n",
       "    </tr>\n",
       "    <tr>\n",
       "      <th>Uruguay</th>\n",
       "      <td>3.219793e+06</td>\n",
       "      <td>2.525596e+04</td>\n",
       "      <td>7843.970620</td>\n",
       "    </tr>\n",
       "  </tbody>\n",
       "</table>\n",
       "</div>"
      ],
      "text/plain": [
       "                 population     total GDP    GDP percap\n",
       "country                                                \n",
       "Argentina      3.733565e+07  2.950722e+05   7903.229085\n",
       "Australia      1.905319e+07  5.418047e+05  28436.433261\n",
       "India          1.006300e+09  1.728144e+06   1717.324719\n",
       "Israel         6.114570e+06  1.292539e+05  21138.672749\n",
       "Malawi         1.180150e+07  5.026222e+03    425.896679\n",
       "South Africa   4.506410e+07  2.272424e+05   5042.647686\n",
       "United States  2.821720e+08  9.898700e+06  35080.381854\n",
       "Uruguay        3.219793e+06  2.525596e+04   7843.970620"
      ]
     },
     "execution_count": 26,
     "metadata": {},
     "output_type": "execute_result"
    }
   ],
   "source": [
    "df['GDP percap'] = df['total GDP'] * 1e6 / df['population']\n",
    "df"
   ]
  },
  {
   "cell_type": "code",
   "execution_count": 32,
   "metadata": {},
   "outputs": [
    {
     "data": {
      "image/png": "[encoded data removed]",
      "text/plain": [
       "<matplotlib.figure.Figure at 0x266f61d4978>"
      ]
     },
     "metadata": {},
     "output_type": "display_data"
    }
   ],
   "source": [
    "df['GDP percap'].plot(kind='bar')\n",
    "plt.show()"
   ]
  },
  {
   "cell_type": "code",
   "execution_count": 35,
   "metadata": {},
   "outputs": [
    {
     "data": {
      "image/png": "[encoded data removed]",
      "text/plain": [
       "<matplotlib.figure.Figure at 0x266f60bcb00>"
      ]
     },
     "metadata": {},
     "output_type": "display_data"
    }
   ],
   "source": [
    " plot = df.plot.pie(y='GDP percap', figsize=(6, 6))"
   ]
  },
  {
   "cell_type": "markdown",
   "metadata": {},
   "source": [
    "Accessing Data with requests"
   ]
  },
  {
   "cell_type": "code",
   "execution_count": 37,
   "metadata": {},
   "outputs": [
    {
     "data": {
      "text/plain": [
       "'DATE,VALUE\\r'"
      ]
     },
     "execution_count": 37,
     "metadata": {},
     "output_type": "execute_result"
    }
   ],
   "source": [
    "import requests\n",
    "\n",
    "url = 'http://research.stlouisfed.org/fred2/series/UNRATE/downloaddata/UNRATE.csv'\n",
    "source = requests.get(url).content.decode().split(\"\\n\")\n",
    "source[0]"
   ]
  },
  {
   "cell_type": "code",
   "execution_count": 38,
   "metadata": {},
   "outputs": [
    {
     "data": {
      "text/plain": [
       "'1948-01-01,3.4\\r'"
      ]
     },
     "execution_count": 38,
     "metadata": {},
     "output_type": "execute_result"
    }
   ],
   "source": [
    "source[1]"
   ]
  },
  {
   "cell_type": "code",
   "execution_count": 51,
   "metadata": {
    "collapsed": true
   },
   "outputs": [],
   "source": [
    "data = pd.read_csv(url, index_col=0, parse_dates=True)"
   ]
  },
  {
   "cell_type": "code",
   "execution_count": 40,
   "metadata": {},
   "outputs": [
    {
     "data": {
      "text/plain": [
       "pandas.core.frame.DataFrame"
      ]
     },
     "execution_count": 40,
     "metadata": {},
     "output_type": "execute_result"
    }
   ],
   "source": [
    "type(data)\n"
   ]
  },
  {
   "cell_type": "code",
   "execution_count": 52,
   "metadata": {},
   "outputs": [
    {
     "data": {
      "text/html": [
       "<div>\n",
       "<style>\n",
       "    .dataframe thead tr:only-child th {\n",
       "        text-align: right;\n",
       "    }\n",
       "\n",
       "    .dataframe thead th {\n",
       "        text-align: left;\n",
       "    }\n",
       "\n",
       "    .dataframe tbody tr th {\n",
       "        vertical-align: top;\n",
       "    }\n",
       "</style>\n",
       "<table border=\"1\" class=\"dataframe\">\n",
       "  <thead>\n",
       "    <tr style=\"text-align: right;\">\n",
       "      <th></th>\n",
       "      <th>VALUE</th>\n",
       "    </tr>\n",
       "    <tr>\n",
       "      <th>DATE</th>\n",
       "      <th></th>\n",
       "    </tr>\n",
       "  </thead>\n",
       "  <tbody>\n",
       "    <tr>\n",
       "      <th>1948-01-01</th>\n",
       "      <td>3.4</td>\n",
       "    </tr>\n",
       "    <tr>\n",
       "      <th>1948-02-01</th>\n",
       "      <td>3.8</td>\n",
       "    </tr>\n",
       "    <tr>\n",
       "      <th>1948-03-01</th>\n",
       "      <td>4.0</td>\n",
       "    </tr>\n",
       "    <tr>\n",
       "      <th>1948-04-01</th>\n",
       "      <td>3.9</td>\n",
       "    </tr>\n",
       "    <tr>\n",
       "      <th>1948-05-01</th>\n",
       "      <td>3.5</td>\n",
       "    </tr>\n",
       "  </tbody>\n",
       "</table>\n",
       "</div>"
      ],
      "text/plain": [
       "            VALUE\n",
       "DATE             \n",
       "1948-01-01    3.4\n",
       "1948-02-01    3.8\n",
       "1948-03-01    4.0\n",
       "1948-04-01    3.9\n",
       "1948-05-01    3.5"
      ]
     },
     "execution_count": 52,
     "metadata": {},
     "output_type": "execute_result"
    }
   ],
   "source": [
    "data.head()"
   ]
  },
  {
   "cell_type": "code",
   "execution_count": 53,
   "metadata": {},
   "outputs": [
    {
     "data": {
      "text/html": [
       "<div>\n",
       "<style>\n",
       "    .dataframe thead tr:only-child th {\n",
       "        text-align: right;\n",
       "    }\n",
       "\n",
       "    .dataframe thead th {\n",
       "        text-align: left;\n",
       "    }\n",
       "\n",
       "    .dataframe tbody tr th {\n",
       "        vertical-align: top;\n",
       "    }\n",
       "</style>\n",
       "<table border=\"1\" class=\"dataframe\">\n",
       "  <thead>\n",
       "    <tr style=\"text-align: right;\">\n",
       "      <th></th>\n",
       "      <th>VALUE</th>\n",
       "    </tr>\n",
       "  </thead>\n",
       "  <tbody>\n",
       "    <tr>\n",
       "      <th>count</th>\n",
       "      <td>853.0</td>\n",
       "    </tr>\n",
       "    <tr>\n",
       "      <th>mean</th>\n",
       "      <td>5.8</td>\n",
       "    </tr>\n",
       "    <tr>\n",
       "      <th>std</th>\n",
       "      <td>1.6</td>\n",
       "    </tr>\n",
       "    <tr>\n",
       "      <th>min</th>\n",
       "      <td>2.5</td>\n",
       "    </tr>\n",
       "    <tr>\n",
       "      <th>25%</th>\n",
       "      <td>4.6</td>\n",
       "    </tr>\n",
       "    <tr>\n",
       "      <th>50%</th>\n",
       "      <td>5.6</td>\n",
       "    </tr>\n",
       "    <tr>\n",
       "      <th>75%</th>\n",
       "      <td>6.8</td>\n",
       "    </tr>\n",
       "    <tr>\n",
       "      <th>max</th>\n",
       "      <td>10.8</td>\n",
       "    </tr>\n",
       "  </tbody>\n",
       "</table>\n",
       "</div>"
      ],
      "text/plain": [
       "       VALUE\n",
       "count  853.0\n",
       "mean     5.8\n",
       "std      1.6\n",
       "min      2.5\n",
       "25%      4.6\n",
       "50%      5.6\n",
       "75%      6.8\n",
       "max     10.8"
      ]
     },
     "execution_count": 53,
     "metadata": {},
     "output_type": "execute_result"
    }
   ],
   "source": [
    "pd.set_option('precision', 1)\n",
    "data.describe()"
   ]
  },
  {
   "cell_type": "code",
   "execution_count": 55,
   "metadata": {},
   "outputs": [
    {
     "data": {
      "image/png": "[encoded data removed]",
      "text/plain": [
       "<matplotlib.figure.Figure at 0x266f5e40978>"
      ]
     },
     "metadata": {},
     "output_type": "display_data"
    }
   ],
   "source": [
    "data['2006':'2012'].plot()\n",
    "plt.show()"
   ]
  },
  {
   "cell_type": "code",
   "execution_count": 56,
   "metadata": {},
   "outputs": [
    {
     "data": {
      "image/png": "[encoded data removed]",
      "text/plain": [
       "<matplotlib.figure.Figure at 0x266f6264d30>"
      ]
     },
     "metadata": {},
     "output_type": "display_data"
    }
   ],
   "source": [
    "import matplotlib.pyplot as plt\n",
    "import requests\n",
    "import pandas as pd\n",
    "\n",
    "# == Get data and read into file gd.xls == #\n",
    "wb_data_query = \"http://api.worldbank.org/v2/en/indicator/gc.dod.totl.gd.zs?downloadformat=excel\"\n",
    "r = requests.get(wb_data_query)\n",
    "with open('gd.xls', 'wb') as output:\n",
    "    output.write(r.content)\n",
    "\n",
    "# == Parse data into a DataFrame == #\n",
    "govt_debt = pd.read_excel('gd.xls', sheet_name='Data', skiprows=3, index_col=1)\n",
    "\n",
    "# == Take desired values and plot == #\n",
    "govt_debt = govt_debt.transpose()\n",
    "govt_debt = govt_debt[['AUS', 'USA']]\n",
    "govt_debt = govt_debt[38:]\n",
    "govt_debt.plot(lw=2)\n",
    "plt.show()"
   ]
  },
  {
   "cell_type": "code",
   "execution_count": 71,
   "metadata": {},
   "outputs": [
    {
     "data": {
      "image/png": "[encoded data removed]",
      "text/plain": [
       "<matplotlib.figure.Figure at 0x266f7c34dd8>"
      ]
     },
     "metadata": {},
     "output_type": "display_data"
    }
   ],
   "source": [
    "ticker = pd.read_csv('https://github.com/QuantEcon/QuantEcon.lectures.code/raw/master/pandas/data/ticker_data.csv')\n",
    "ticker.set_index('Date', inplace=True)\n",
    "\n",
    "ticker_list = {'INTC': 'Intel',\n",
    "               'MSFT': 'Microsoft',\n",
    "               'IBM': 'IBM',\n",
    "               'BHP': 'BHP',\n",
    "               'TM': 'Toyota',\n",
    "               'AAPL': 'Apple',\n",
    "               'AMZN': 'Amazon',\n",
    "               'BA': 'Boeing',\n",
    "               'QCOM': 'Qualcomm',\n",
    "               'KO': 'Coca-Cola',\n",
    "               'GOOG': 'Google',\n",
    "               'SNE': 'Sony',\n",
    "               'PTR': 'PetroChina'}\n",
    "\n",
    "price_change = pd.Series()\n",
    "\n",
    "for tick in ticker_list:\n",
    "    change = 100 * (ticker.loc[ticker.index[-1], tick] - ticker.loc[ticker.index[0], tick]) / ticker.loc[ticker.index[0], tick]\n",
    "    name = ticker_list[tick]\n",
    "    price_change[name] = change\n",
    "    \n",
    "\n",
    "price_change.sort_values(inplace=True)\n",
    "fig, ax = plt.subplots(figsize=(10,8))\n",
    "price_change.plot(kind='bar', ax=ax)\n",
    "plt.show()\n",
    "\n"
   ]
  },
  {
   "cell_type": "markdown",
   "metadata": {},
   "source": [
    "<h2> SLICING AND RESHAPING </h2>"
   ]
  },
  {
   "cell_type": "code",
   "execution_count": 1,
   "metadata": {
    "collapsed": true
   },
   "outputs": [],
   "source": [
    "import pandas as pd\n",
    "\n",
    "# Display 6 columns for viewing purposes\n",
    "pd.set_option('display.max_columns', 6)\n",
    "\n",
    "# Reduce decimal points to 2\n",
    "pd.options.display.float_format = '{:,.2f}'.format\n",
    "\n",
    "realwage = pd.read_csv('https://github.com/QuantEcon/QuantEcon.lectures.code/raw/master/pandas_panel/realwage.csv')"
   ]
  },
  {
   "cell_type": "code",
   "execution_count": 2,
   "metadata": {},
   "outputs": [
    {
     "data": {
      "text/html": [
       "<div>\n",
       "<style>\n",
       "    .dataframe thead tr:only-child th {\n",
       "        text-align: right;\n",
       "    }\n",
       "\n",
       "    .dataframe thead th {\n",
       "        text-align: left;\n",
       "    }\n",
       "\n",
       "    .dataframe tbody tr th {\n",
       "        vertical-align: top;\n",
       "    }\n",
       "</style>\n",
       "<table border=\"1\" class=\"dataframe\">\n",
       "  <thead>\n",
       "    <tr style=\"text-align: right;\">\n",
       "      <th></th>\n",
       "      <th>Unnamed: 0</th>\n",
       "      <th>Time</th>\n",
       "      <th>Country</th>\n",
       "      <th>Series</th>\n",
       "      <th>Pay period</th>\n",
       "      <th>value</th>\n",
       "    </tr>\n",
       "  </thead>\n",
       "  <tbody>\n",
       "    <tr>\n",
       "      <th>0</th>\n",
       "      <td>0</td>\n",
       "      <td>2006-01-01</td>\n",
       "      <td>Ireland</td>\n",
       "      <td>In 2015 constant prices at 2015 USD PPPs</td>\n",
       "      <td>Annual</td>\n",
       "      <td>17,132.44</td>\n",
       "    </tr>\n",
       "    <tr>\n",
       "      <th>1</th>\n",
       "      <td>1</td>\n",
       "      <td>2007-01-01</td>\n",
       "      <td>Ireland</td>\n",
       "      <td>In 2015 constant prices at 2015 USD PPPs</td>\n",
       "      <td>Annual</td>\n",
       "      <td>18,100.92</td>\n",
       "    </tr>\n",
       "    <tr>\n",
       "      <th>2</th>\n",
       "      <td>2</td>\n",
       "      <td>2008-01-01</td>\n",
       "      <td>Ireland</td>\n",
       "      <td>In 2015 constant prices at 2015 USD PPPs</td>\n",
       "      <td>Annual</td>\n",
       "      <td>17,747.41</td>\n",
       "    </tr>\n",
       "    <tr>\n",
       "      <th>3</th>\n",
       "      <td>3</td>\n",
       "      <td>2009-01-01</td>\n",
       "      <td>Ireland</td>\n",
       "      <td>In 2015 constant prices at 2015 USD PPPs</td>\n",
       "      <td>Annual</td>\n",
       "      <td>18,580.14</td>\n",
       "    </tr>\n",
       "    <tr>\n",
       "      <th>4</th>\n",
       "      <td>4</td>\n",
       "      <td>2010-01-01</td>\n",
       "      <td>Ireland</td>\n",
       "      <td>In 2015 constant prices at 2015 USD PPPs</td>\n",
       "      <td>Annual</td>\n",
       "      <td>18,755.83</td>\n",
       "    </tr>\n",
       "  </tbody>\n",
       "</table>\n",
       "</div>"
      ],
      "text/plain": [
       "   Unnamed: 0        Time  Country                                    Series  \\\n",
       "0           0  2006-01-01  Ireland  In 2015 constant prices at 2015 USD PPPs   \n",
       "1           1  2007-01-01  Ireland  In 2015 constant prices at 2015 USD PPPs   \n",
       "2           2  2008-01-01  Ireland  In 2015 constant prices at 2015 USD PPPs   \n",
       "3           3  2009-01-01  Ireland  In 2015 constant prices at 2015 USD PPPs   \n",
       "4           4  2010-01-01  Ireland  In 2015 constant prices at 2015 USD PPPs   \n",
       "\n",
       "  Pay period     value  \n",
       "0     Annual 17,132.44  \n",
       "1     Annual 18,100.92  \n",
       "2     Annual 17,747.41  \n",
       "3     Annual 18,580.14  \n",
       "4     Annual 18,755.83  "
      ]
     },
     "execution_count": 2,
     "metadata": {},
     "output_type": "execute_result"
    }
   ],
   "source": [
    "realwage.head()"
   ]
  },
  {
   "cell_type": "code",
   "execution_count": 4,
   "metadata": {},
   "outputs": [
    {
     "data": {
      "text/html": [
       "<div>\n",
       "<style>\n",
       "    .dataframe thead tr:only-child th {\n",
       "        text-align: right;\n",
       "    }\n",
       "\n",
       "    .dataframe thead th {\n",
       "        text-align: left;\n",
       "    }\n",
       "\n",
       "    .dataframe tbody tr th {\n",
       "        vertical-align: top;\n",
       "    }\n",
       "</style>\n",
       "<table border=\"1\" class=\"dataframe\">\n",
       "  <thead>\n",
       "    <tr>\n",
       "      <th>Country</th>\n",
       "      <th colspan=\"3\" halign=\"left\">Australia</th>\n",
       "      <th>...</th>\n",
       "      <th colspan=\"3\" halign=\"left\">United States</th>\n",
       "    </tr>\n",
       "    <tr>\n",
       "      <th>Series</th>\n",
       "      <th colspan=\"2\" halign=\"left\">In 2015 constant prices at 2015 USD PPPs</th>\n",
       "      <th>In 2015 constant prices at 2015 USD exchange rates</th>\n",
       "      <th>...</th>\n",
       "      <th>In 2015 constant prices at 2015 USD PPPs</th>\n",
       "      <th colspan=\"2\" halign=\"left\">In 2015 constant prices at 2015 USD exchange rates</th>\n",
       "    </tr>\n",
       "    <tr>\n",
       "      <th>Pay period</th>\n",
       "      <th>Annual</th>\n",
       "      <th>Hourly</th>\n",
       "      <th>Annual</th>\n",
       "      <th>...</th>\n",
       "      <th>Hourly</th>\n",
       "      <th>Annual</th>\n",
       "      <th>Hourly</th>\n",
       "    </tr>\n",
       "    <tr>\n",
       "      <th>Time</th>\n",
       "      <th></th>\n",
       "      <th></th>\n",
       "      <th></th>\n",
       "      <th></th>\n",
       "      <th></th>\n",
       "      <th></th>\n",
       "      <th></th>\n",
       "    </tr>\n",
       "  </thead>\n",
       "  <tbody>\n",
       "    <tr>\n",
       "      <th>2006-01-01</th>\n",
       "      <td>20,410.65</td>\n",
       "      <td>10.33</td>\n",
       "      <td>23,826.64</td>\n",
       "      <td>...</td>\n",
       "      <td>6.05</td>\n",
       "      <td>12,594.40</td>\n",
       "      <td>6.05</td>\n",
       "    </tr>\n",
       "    <tr>\n",
       "      <th>2007-01-01</th>\n",
       "      <td>21,087.57</td>\n",
       "      <td>10.67</td>\n",
       "      <td>24,616.84</td>\n",
       "      <td>...</td>\n",
       "      <td>6.24</td>\n",
       "      <td>12,974.40</td>\n",
       "      <td>6.24</td>\n",
       "    </tr>\n",
       "    <tr>\n",
       "      <th>2008-01-01</th>\n",
       "      <td>20,718.24</td>\n",
       "      <td>10.48</td>\n",
       "      <td>24,185.70</td>\n",
       "      <td>...</td>\n",
       "      <td>6.78</td>\n",
       "      <td>14,097.56</td>\n",
       "      <td>6.78</td>\n",
       "    </tr>\n",
       "    <tr>\n",
       "      <th>2009-01-01</th>\n",
       "      <td>20,984.77</td>\n",
       "      <td>10.62</td>\n",
       "      <td>24,496.84</td>\n",
       "      <td>...</td>\n",
       "      <td>7.58</td>\n",
       "      <td>15,756.42</td>\n",
       "      <td>7.58</td>\n",
       "    </tr>\n",
       "    <tr>\n",
       "      <th>2010-01-01</th>\n",
       "      <td>20,879.33</td>\n",
       "      <td>10.57</td>\n",
       "      <td>24,373.76</td>\n",
       "      <td>...</td>\n",
       "      <td>7.88</td>\n",
       "      <td>16,391.31</td>\n",
       "      <td>7.88</td>\n",
       "    </tr>\n",
       "  </tbody>\n",
       "</table>\n",
       "<p>5 rows × 128 columns</p>\n",
       "</div>"
      ],
      "text/plain": [
       "Country                                   Australia         \\\n",
       "Series     In 2015 constant prices at 2015 USD PPPs          \n",
       "Pay period                                   Annual Hourly   \n",
       "Time                                                         \n",
       "2006-01-01                                20,410.65  10.33   \n",
       "2007-01-01                                21,087.57  10.67   \n",
       "2008-01-01                                20,718.24  10.48   \n",
       "2009-01-01                                20,984.77  10.62   \n",
       "2010-01-01                                20,879.33  10.57   \n",
       "\n",
       "Country                                                        ...    \\\n",
       "Series     In 2015 constant prices at 2015 USD exchange rates  ...     \n",
       "Pay period                                             Annual  ...     \n",
       "Time                                                           ...     \n",
       "2006-01-01                                          23,826.64  ...     \n",
       "2007-01-01                                          24,616.84  ...     \n",
       "2008-01-01                                          24,185.70  ...     \n",
       "2009-01-01                                          24,496.84  ...     \n",
       "2010-01-01                                          24,373.76  ...     \n",
       "\n",
       "Country                               United States  \\\n",
       "Series     In 2015 constant prices at 2015 USD PPPs   \n",
       "Pay period                                   Hourly   \n",
       "Time                                                  \n",
       "2006-01-01                                     6.05   \n",
       "2007-01-01                                     6.24   \n",
       "2008-01-01                                     6.78   \n",
       "2009-01-01                                     7.58   \n",
       "2010-01-01                                     7.88   \n",
       "\n",
       "Country                                                               \n",
       "Series     In 2015 constant prices at 2015 USD exchange rates         \n",
       "Pay period                                             Annual Hourly  \n",
       "Time                                                                  \n",
       "2006-01-01                                          12,594.40   6.05  \n",
       "2007-01-01                                          12,974.40   6.24  \n",
       "2008-01-01                                          14,097.56   6.78  \n",
       "2009-01-01                                          15,756.42   7.58  \n",
       "2010-01-01                                          16,391.31   7.88  \n",
       "\n",
       "[5 rows x 128 columns]"
      ]
     },
     "execution_count": 4,
     "metadata": {},
     "output_type": "execute_result"
    }
   ],
   "source": [
    "realwage = realwage.pivot_table(values = 'value', index = 'Time', columns = ['Country','Series', 'Pay period'])\n",
    "realwage.head()"
   ]
  },
  {
   "cell_type": "code",
   "execution_count": 5,
   "metadata": {},
   "outputs": [
    {
     "data": {
      "text/plain": [
       "pandas.core.indexes.datetimes.DatetimeIndex"
      ]
     },
     "execution_count": 5,
     "metadata": {},
     "output_type": "execute_result"
    }
   ],
   "source": [
    "realwage.index = pd.to_datetime(realwage.index)\n",
    "type(realwage.index)"
   ]
  },
  {
   "cell_type": "code",
   "execution_count": 6,
   "metadata": {},
   "outputs": [
    {
     "data": {
      "text/plain": [
       "pandas.core.indexes.multi.MultiIndex"
      ]
     },
     "execution_count": 6,
     "metadata": {},
     "output_type": "execute_result"
    }
   ],
   "source": [
    "type(realwage.columns)"
   ]
  },
  {
   "cell_type": "code",
   "execution_count": 7,
   "metadata": {},
   "outputs": [
    {
     "data": {
      "text/plain": [
       "FrozenList(['Country', 'Series', 'Pay period'])"
      ]
     },
     "execution_count": 7,
     "metadata": {},
     "output_type": "execute_result"
    }
   ],
   "source": [
    "realwage.columns.names"
   ]
  },
  {
   "cell_type": "code",
   "execution_count": 8,
   "metadata": {},
   "outputs": [
    {
     "data": {
      "text/html": [
       "<div>\n",
       "<style>\n",
       "    .dataframe thead tr:only-child th {\n",
       "        text-align: right;\n",
       "    }\n",
       "\n",
       "    .dataframe thead th {\n",
       "        text-align: left;\n",
       "    }\n",
       "\n",
       "    .dataframe tbody tr th {\n",
       "        vertical-align: top;\n",
       "    }\n",
       "</style>\n",
       "<table border=\"1\" class=\"dataframe\">\n",
       "  <thead>\n",
       "    <tr>\n",
       "      <th>Series</th>\n",
       "      <th colspan=\"2\" halign=\"left\">In 2015 constant prices at 2015 USD PPPs</th>\n",
       "      <th colspan=\"2\" halign=\"left\">In 2015 constant prices at 2015 USD exchange rates</th>\n",
       "    </tr>\n",
       "    <tr>\n",
       "      <th>Pay period</th>\n",
       "      <th>Annual</th>\n",
       "      <th>Hourly</th>\n",
       "      <th>Annual</th>\n",
       "      <th>Hourly</th>\n",
       "    </tr>\n",
       "    <tr>\n",
       "      <th>Time</th>\n",
       "      <th></th>\n",
       "      <th></th>\n",
       "      <th></th>\n",
       "      <th></th>\n",
       "    </tr>\n",
       "  </thead>\n",
       "  <tbody>\n",
       "    <tr>\n",
       "      <th>2006-01-01</th>\n",
       "      <td>12,594.40</td>\n",
       "      <td>6.05</td>\n",
       "      <td>12,594.40</td>\n",
       "      <td>6.05</td>\n",
       "    </tr>\n",
       "    <tr>\n",
       "      <th>2007-01-01</th>\n",
       "      <td>12,974.40</td>\n",
       "      <td>6.24</td>\n",
       "      <td>12,974.40</td>\n",
       "      <td>6.24</td>\n",
       "    </tr>\n",
       "    <tr>\n",
       "      <th>2008-01-01</th>\n",
       "      <td>14,097.56</td>\n",
       "      <td>6.78</td>\n",
       "      <td>14,097.56</td>\n",
       "      <td>6.78</td>\n",
       "    </tr>\n",
       "    <tr>\n",
       "      <th>2009-01-01</th>\n",
       "      <td>15,756.42</td>\n",
       "      <td>7.58</td>\n",
       "      <td>15,756.42</td>\n",
       "      <td>7.58</td>\n",
       "    </tr>\n",
       "    <tr>\n",
       "      <th>2010-01-01</th>\n",
       "      <td>16,391.31</td>\n",
       "      <td>7.88</td>\n",
       "      <td>16,391.31</td>\n",
       "      <td>7.88</td>\n",
       "    </tr>\n",
       "  </tbody>\n",
       "</table>\n",
       "</div>"
      ],
      "text/plain": [
       "Series     In 2015 constant prices at 2015 USD PPPs         \\\n",
       "Pay period                                   Annual Hourly   \n",
       "Time                                                         \n",
       "2006-01-01                                12,594.40   6.05   \n",
       "2007-01-01                                12,974.40   6.24   \n",
       "2008-01-01                                14,097.56   6.78   \n",
       "2009-01-01                                15,756.42   7.58   \n",
       "2010-01-01                                16,391.31   7.88   \n",
       "\n",
       "Series     In 2015 constant prices at 2015 USD exchange rates         \n",
       "Pay period                                             Annual Hourly  \n",
       "Time                                                                  \n",
       "2006-01-01                                          12,594.40   6.05  \n",
       "2007-01-01                                          12,974.40   6.24  \n",
       "2008-01-01                                          14,097.56   6.78  \n",
       "2009-01-01                                          15,756.42   7.58  \n",
       "2010-01-01                                          16,391.31   7.88  "
      ]
     },
     "execution_count": 8,
     "metadata": {},
     "output_type": "execute_result"
    }
   ],
   "source": [
    "realwage['United States'].head()"
   ]
  },
  {
   "cell_type": "code",
   "execution_count": 9,
   "metadata": {},
   "outputs": [
    {
     "data": {
      "text/html": [
       "<div>\n",
       "<style>\n",
       "    .dataframe thead tr:only-child th {\n",
       "        text-align: right;\n",
       "    }\n",
       "\n",
       "    .dataframe thead th {\n",
       "        text-align: left;\n",
       "    }\n",
       "\n",
       "    .dataframe tbody tr th {\n",
       "        vertical-align: top;\n",
       "    }\n",
       "</style>\n",
       "<table border=\"1\" class=\"dataframe\">\n",
       "  <thead>\n",
       "    <tr>\n",
       "      <th></th>\n",
       "      <th>Country</th>\n",
       "      <th colspan=\"2\" halign=\"left\">Australia</th>\n",
       "      <th>Belgium</th>\n",
       "      <th>...</th>\n",
       "      <th>United Kingdom</th>\n",
       "      <th colspan=\"2\" halign=\"left\">United States</th>\n",
       "    </tr>\n",
       "    <tr>\n",
       "      <th></th>\n",
       "      <th>Series</th>\n",
       "      <th>In 2015 constant prices at 2015 USD PPPs</th>\n",
       "      <th>In 2015 constant prices at 2015 USD exchange rates</th>\n",
       "      <th>In 2015 constant prices at 2015 USD PPPs</th>\n",
       "      <th>...</th>\n",
       "      <th>In 2015 constant prices at 2015 USD exchange rates</th>\n",
       "      <th>In 2015 constant prices at 2015 USD PPPs</th>\n",
       "      <th>In 2015 constant prices at 2015 USD exchange rates</th>\n",
       "    </tr>\n",
       "    <tr>\n",
       "      <th>Time</th>\n",
       "      <th>Pay period</th>\n",
       "      <th></th>\n",
       "      <th></th>\n",
       "      <th></th>\n",
       "      <th></th>\n",
       "      <th></th>\n",
       "      <th></th>\n",
       "      <th></th>\n",
       "    </tr>\n",
       "  </thead>\n",
       "  <tbody>\n",
       "    <tr>\n",
       "      <th rowspan=\"2\" valign=\"top\">2006-01-01</th>\n",
       "      <th>Annual</th>\n",
       "      <td>20,410.65</td>\n",
       "      <td>23,826.64</td>\n",
       "      <td>21,042.28</td>\n",
       "      <td>...</td>\n",
       "      <td>20,376.32</td>\n",
       "      <td>12,594.40</td>\n",
       "      <td>12,594.40</td>\n",
       "    </tr>\n",
       "    <tr>\n",
       "      <th>Hourly</th>\n",
       "      <td>10.33</td>\n",
       "      <td>12.06</td>\n",
       "      <td>10.09</td>\n",
       "      <td>...</td>\n",
       "      <td>9.81</td>\n",
       "      <td>6.05</td>\n",
       "      <td>6.05</td>\n",
       "    </tr>\n",
       "    <tr>\n",
       "      <th rowspan=\"2\" valign=\"top\">2007-01-01</th>\n",
       "      <th>Annual</th>\n",
       "      <td>21,087.57</td>\n",
       "      <td>24,616.84</td>\n",
       "      <td>21,310.05</td>\n",
       "      <td>...</td>\n",
       "      <td>20,954.13</td>\n",
       "      <td>12,974.40</td>\n",
       "      <td>12,974.40</td>\n",
       "    </tr>\n",
       "    <tr>\n",
       "      <th>Hourly</th>\n",
       "      <td>10.67</td>\n",
       "      <td>12.46</td>\n",
       "      <td>10.22</td>\n",
       "      <td>...</td>\n",
       "      <td>10.07</td>\n",
       "      <td>6.24</td>\n",
       "      <td>6.24</td>\n",
       "    </tr>\n",
       "    <tr>\n",
       "      <th>2008-01-01</th>\n",
       "      <th>Annual</th>\n",
       "      <td>20,718.24</td>\n",
       "      <td>24,185.70</td>\n",
       "      <td>21,416.96</td>\n",
       "      <td>...</td>\n",
       "      <td>20,902.87</td>\n",
       "      <td>14,097.56</td>\n",
       "      <td>14,097.56</td>\n",
       "    </tr>\n",
       "  </tbody>\n",
       "</table>\n",
       "<p>5 rows × 64 columns</p>\n",
       "</div>"
      ],
      "text/plain": [
       "Country                                              Australia  \\\n",
       "Series                In 2015 constant prices at 2015 USD PPPs   \n",
       "Time       Pay period                                            \n",
       "2006-01-01 Annual                                    20,410.65   \n",
       "           Hourly                                        10.33   \n",
       "2007-01-01 Annual                                    21,087.57   \n",
       "           Hourly                                        10.67   \n",
       "2008-01-01 Annual                                    20,718.24   \n",
       "\n",
       "Country                                                                   \\\n",
       "Series                In 2015 constant prices at 2015 USD exchange rates   \n",
       "Time       Pay period                                                      \n",
       "2006-01-01 Annual                                              23,826.64   \n",
       "           Hourly                                                  12.06   \n",
       "2007-01-01 Annual                                              24,616.84   \n",
       "           Hourly                                                  12.46   \n",
       "2008-01-01 Annual                                              24,185.70   \n",
       "\n",
       "Country                                                Belgium  \\\n",
       "Series                In 2015 constant prices at 2015 USD PPPs   \n",
       "Time       Pay period                                            \n",
       "2006-01-01 Annual                                    21,042.28   \n",
       "           Hourly                                        10.09   \n",
       "2007-01-01 Annual                                    21,310.05   \n",
       "           Hourly                                        10.22   \n",
       "2008-01-01 Annual                                    21,416.96   \n",
       "\n",
       "Country                                      ...                          \\\n",
       "Series                                       ...                           \n",
       "Time       Pay period                        ...                           \n",
       "2006-01-01 Annual                            ...                           \n",
       "           Hourly                            ...                           \n",
       "2007-01-01 Annual                            ...                           \n",
       "           Hourly                            ...                           \n",
       "2008-01-01 Annual                            ...                           \n",
       "\n",
       "Country                                                   United Kingdom  \\\n",
       "Series                In 2015 constant prices at 2015 USD exchange rates   \n",
       "Time       Pay period                                                      \n",
       "2006-01-01 Annual                                              20,376.32   \n",
       "           Hourly                                                   9.81   \n",
       "2007-01-01 Annual                                              20,954.13   \n",
       "           Hourly                                                  10.07   \n",
       "2008-01-01 Annual                                              20,902.87   \n",
       "\n",
       "Country                                          United States  \\\n",
       "Series                In 2015 constant prices at 2015 USD PPPs   \n",
       "Time       Pay period                                            \n",
       "2006-01-01 Annual                                    12,594.40   \n",
       "           Hourly                                         6.05   \n",
       "2007-01-01 Annual                                    12,974.40   \n",
       "           Hourly                                         6.24   \n",
       "2008-01-01 Annual                                    14,097.56   \n",
       "\n",
       "Country                                                                   \n",
       "Series                In 2015 constant prices at 2015 USD exchange rates  \n",
       "Time       Pay period                                                     \n",
       "2006-01-01 Annual                                              12,594.40  \n",
       "           Hourly                                                   6.05  \n",
       "2007-01-01 Annual                                              12,974.40  \n",
       "           Hourly                                                   6.24  \n",
       "2008-01-01 Annual                                              14,097.56  \n",
       "\n",
       "[5 rows x 64 columns]"
      ]
     },
     "execution_count": 9,
     "metadata": {},
     "output_type": "execute_result"
    }
   ],
   "source": [
    "realwage.stack().head()"
   ]
  },
  {
   "cell_type": "code",
   "execution_count": null,
   "metadata": {
    "collapsed": true
   },
   "outputs": [],
   "source": [
    "realwaf"
   ]
  },
  {
   "cell_type": "markdown",
   "metadata": {},
   "source": [
    "<h1> Just_Markham Tutorial Practice <h2>"
   ]
  },
  {
   "cell_type": "code",
   "execution_count": 76,
   "metadata": {},
   "outputs": [
    {
     "data": {
      "text/plain": [
       "'0.20.1'"
      ]
     },
     "execution_count": 76,
     "metadata": {},
     "output_type": "execute_result"
    }
   ],
   "source": [
    "import pandas as pd\n",
    "pd.__version__\n"
   ]
  },
  {
   "cell_type": "code",
   "execution_count": 78,
   "metadata": {
    "collapsed": true
   },
   "outputs": [],
   "source": [
    "import matplotlib.pyplot as plt\n",
    "%matplotlib inline "
   ]
  },
  {
   "cell_type": "code",
   "execution_count": 97,
   "metadata": {},
   "outputs": [
    {
     "data": {
      "text/html": [
       "<div>\n",
       "<style>\n",
       "    .dataframe thead tr:only-child th {\n",
       "        text-align: right;\n",
       "    }\n",
       "\n",
       "    .dataframe thead th {\n",
       "        text-align: left;\n",
       "    }\n",
       "\n",
       "    .dataframe tbody tr th {\n",
       "        vertical-align: top;\n",
       "    }\n",
       "</style>\n",
       "<table border=\"1\" class=\"dataframe\">\n",
       "  <thead>\n",
       "    <tr style=\"text-align: right;\">\n",
       "      <th></th>\n",
       "      <th>stop_date</th>\n",
       "      <th>stop_time</th>\n",
       "      <th>county_name</th>\n",
       "      <th>driver_gender</th>\n",
       "      <th>driver_age_raw</th>\n",
       "      <th>driver_age</th>\n",
       "      <th>driver_race</th>\n",
       "      <th>violation_raw</th>\n",
       "      <th>violation</th>\n",
       "      <th>search_conducted</th>\n",
       "      <th>search_type</th>\n",
       "      <th>stop_outcome</th>\n",
       "      <th>is_arrested</th>\n",
       "      <th>stop_duration</th>\n",
       "      <th>drugs_related_stop</th>\n",
       "    </tr>\n",
       "  </thead>\n",
       "  <tbody>\n",
       "    <tr>\n",
       "      <th>0</th>\n",
       "      <td>2005-01-02</td>\n",
       "      <td>01:55</td>\n",
       "      <td>nan</td>\n",
       "      <td>M</td>\n",
       "      <td>1,985.00</td>\n",
       "      <td>20.00</td>\n",
       "      <td>White</td>\n",
       "      <td>Speeding</td>\n",
       "      <td>Speeding</td>\n",
       "      <td>False</td>\n",
       "      <td>NaN</td>\n",
       "      <td>Citation</td>\n",
       "      <td>False</td>\n",
       "      <td>0-15 Min</td>\n",
       "      <td>False</td>\n",
       "    </tr>\n",
       "    <tr>\n",
       "      <th>1</th>\n",
       "      <td>2005-01-18</td>\n",
       "      <td>08:15</td>\n",
       "      <td>nan</td>\n",
       "      <td>M</td>\n",
       "      <td>1,965.00</td>\n",
       "      <td>40.00</td>\n",
       "      <td>White</td>\n",
       "      <td>Speeding</td>\n",
       "      <td>Speeding</td>\n",
       "      <td>False</td>\n",
       "      <td>NaN</td>\n",
       "      <td>Citation</td>\n",
       "      <td>False</td>\n",
       "      <td>0-15 Min</td>\n",
       "      <td>False</td>\n",
       "    </tr>\n",
       "    <tr>\n",
       "      <th>2</th>\n",
       "      <td>2005-01-23</td>\n",
       "      <td>23:15</td>\n",
       "      <td>nan</td>\n",
       "      <td>M</td>\n",
       "      <td>1,972.00</td>\n",
       "      <td>33.00</td>\n",
       "      <td>White</td>\n",
       "      <td>Speeding</td>\n",
       "      <td>Speeding</td>\n",
       "      <td>False</td>\n",
       "      <td>NaN</td>\n",
       "      <td>Citation</td>\n",
       "      <td>False</td>\n",
       "      <td>0-15 Min</td>\n",
       "      <td>False</td>\n",
       "    </tr>\n",
       "    <tr>\n",
       "      <th>3</th>\n",
       "      <td>2005-02-20</td>\n",
       "      <td>17:15</td>\n",
       "      <td>nan</td>\n",
       "      <td>M</td>\n",
       "      <td>1,986.00</td>\n",
       "      <td>19.00</td>\n",
       "      <td>White</td>\n",
       "      <td>Call for Service</td>\n",
       "      <td>Other</td>\n",
       "      <td>False</td>\n",
       "      <td>NaN</td>\n",
       "      <td>Arrest Driver</td>\n",
       "      <td>True</td>\n",
       "      <td>16-30 Min</td>\n",
       "      <td>False</td>\n",
       "    </tr>\n",
       "    <tr>\n",
       "      <th>4</th>\n",
       "      <td>2005-03-14</td>\n",
       "      <td>10:00</td>\n",
       "      <td>nan</td>\n",
       "      <td>F</td>\n",
       "      <td>1,984.00</td>\n",
       "      <td>21.00</td>\n",
       "      <td>White</td>\n",
       "      <td>Speeding</td>\n",
       "      <td>Speeding</td>\n",
       "      <td>False</td>\n",
       "      <td>NaN</td>\n",
       "      <td>Citation</td>\n",
       "      <td>False</td>\n",
       "      <td>0-15 Min</td>\n",
       "      <td>False</td>\n",
       "    </tr>\n",
       "  </tbody>\n",
       "</table>\n",
       "</div>"
      ],
      "text/plain": [
       "    stop_date stop_time  county_name driver_gender  driver_age_raw  \\\n",
       "0  2005-01-02     01:55          nan             M        1,985.00   \n",
       "1  2005-01-18     08:15          nan             M        1,965.00   \n",
       "2  2005-01-23     23:15          nan             M        1,972.00   \n",
       "3  2005-02-20     17:15          nan             M        1,986.00   \n",
       "4  2005-03-14     10:00          nan             F        1,984.00   \n",
       "\n",
       "   driver_age driver_race     violation_raw violation  search_conducted  \\\n",
       "0       20.00       White          Speeding  Speeding             False   \n",
       "1       40.00       White          Speeding  Speeding             False   \n",
       "2       33.00       White          Speeding  Speeding             False   \n",
       "3       19.00       White  Call for Service     Other             False   \n",
       "4       21.00       White          Speeding  Speeding             False   \n",
       "\n",
       "  search_type   stop_outcome is_arrested stop_duration  drugs_related_stop  \n",
       "0         NaN       Citation       False      0-15 Min               False  \n",
       "1         NaN       Citation       False      0-15 Min               False  \n",
       "2         NaN       Citation       False      0-15 Min               False  \n",
       "3         NaN  Arrest Driver        True     16-30 Min               False  \n",
       "4         NaN       Citation       False      0-15 Min               False  "
      ]
     },
     "execution_count": 97,
     "metadata": {},
     "output_type": "execute_result"
    }
   ],
   "source": [
    "ri = pd.read_csv('C:\\\\Users\\\\Akshay\\\\Desktop\\\\PyFinance\\\\pycon-2018-tutorial-master\\\\police.csv')\n",
    "pd.set_option('display.max_columns', 15)\n",
    "ri.head()"
   ]
  },
  {
   "cell_type": "code",
   "execution_count": 85,
   "metadata": {},
   "outputs": [
    {
     "data": {
      "text/plain": [
       "(91741, 15)"
      ]
     },
     "execution_count": 85,
     "metadata": {},
     "output_type": "execute_result"
    }
   ],
   "source": [
    "ri.shape"
   ]
  },
  {
   "cell_type": "code",
   "execution_count": 89,
   "metadata": {},
   "outputs": [
    {
     "data": {
      "text/plain": [
       "stop_date              object\n",
       "stop_time              object\n",
       "county_name           float64\n",
       "driver_gender          object\n",
       "driver_age_raw        float64\n",
       "driver_age            float64\n",
       "driver_race            object\n",
       "violation_raw          object\n",
       "violation              object\n",
       "search_conducted         bool\n",
       "search_type            object\n",
       "stop_outcome           object\n",
       "is_arrested            object\n",
       "stop_duration          object\n",
       "drugs_related_stop       bool\n",
       "dtype: object"
      ]
     },
     "execution_count": 89,
     "metadata": {},
     "output_type": "execute_result"
    }
   ],
   "source": [
    "ri.dtypes"
   ]
  },
  {
   "cell_type": "code",
   "execution_count": 90,
   "metadata": {},
   "outputs": [
    {
     "data": {
      "text/plain": [
       "stop_date                 0\n",
       "stop_time                 0\n",
       "county_name           91741\n",
       "driver_gender          5335\n",
       "driver_age_raw         5327\n",
       "driver_age             5621\n",
       "driver_race            5333\n",
       "violation_raw          5333\n",
       "violation              5333\n",
       "search_conducted          0\n",
       "search_type           88545\n",
       "stop_outcome           5333\n",
       "is_arrested            5333\n",
       "stop_duration          5333\n",
       "drugs_related_stop        0\n",
       "dtype: int64"
      ]
     },
     "execution_count": 90,
     "metadata": {},
     "output_type": "execute_result"
    }
   ],
   "source": [
    "ri.isnull().sum()"
   ]
  },
  {
   "cell_type": "code",
   "execution_count": 107,
   "metadata": {
    "collapsed": true
   },
   "outputs": [],
   "source": [
    "ri.drop('county_name', axis='columns', inplace=True)"
   ]
  },
  {
   "cell_type": "code",
   "execution_count": 108,
   "metadata": {},
   "outputs": [
    {
     "data": {
      "text/plain": [
       "(91741, 14)"
      ]
     },
     "execution_count": 108,
     "metadata": {},
     "output_type": "execute_result"
    }
   ],
   "source": [
    "ri.head()\n",
    "ri.shape"
   ]
  },
  {
   "cell_type": "code",
   "execution_count": 109,
   "metadata": {},
   "outputs": [
    {
     "data": {
      "text/plain": [
       "(91741, 14)"
      ]
     },
     "execution_count": 109,
     "metadata": {},
     "output_type": "execute_result"
    }
   ],
   "source": [
    "ri.dropna(axis='columns', how = 'all').shape"
   ]
  },
  {
   "cell_type": "code",
   "execution_count": 111,
   "metadata": {},
   "outputs": [
    {
     "data": {
      "text/html": [
       "<div>\n",
       "<style>\n",
       "    .dataframe thead tr:only-child th {\n",
       "        text-align: right;\n",
       "    }\n",
       "\n",
       "    .dataframe thead th {\n",
       "        text-align: left;\n",
       "    }\n",
       "\n",
       "    .dataframe tbody tr th {\n",
       "        vertical-align: top;\n",
       "    }\n",
       "</style>\n",
       "<table border=\"1\" class=\"dataframe\">\n",
       "  <thead>\n",
       "    <tr style=\"text-align: right;\">\n",
       "      <th></th>\n",
       "      <th>stop_date</th>\n",
       "      <th>stop_time</th>\n",
       "      <th>driver_gender</th>\n",
       "      <th>driver_age_raw</th>\n",
       "      <th>driver_age</th>\n",
       "      <th>driver_race</th>\n",
       "      <th>violation_raw</th>\n",
       "      <th>violation</th>\n",
       "      <th>search_conducted</th>\n",
       "      <th>search_type</th>\n",
       "      <th>stop_outcome</th>\n",
       "      <th>is_arrested</th>\n",
       "      <th>stop_duration</th>\n",
       "      <th>drugs_related_stop</th>\n",
       "    </tr>\n",
       "  </thead>\n",
       "  <tbody>\n",
       "    <tr>\n",
       "      <th>0</th>\n",
       "      <td>2005-01-02</td>\n",
       "      <td>01:55</td>\n",
       "      <td>M</td>\n",
       "      <td>1,985.00</td>\n",
       "      <td>20.00</td>\n",
       "      <td>White</td>\n",
       "      <td>Speeding</td>\n",
       "      <td>Speeding</td>\n",
       "      <td>False</td>\n",
       "      <td>NaN</td>\n",
       "      <td>Citation</td>\n",
       "      <td>False</td>\n",
       "      <td>0-15 Min</td>\n",
       "      <td>False</td>\n",
       "    </tr>\n",
       "    <tr>\n",
       "      <th>1</th>\n",
       "      <td>2005-01-18</td>\n",
       "      <td>08:15</td>\n",
       "      <td>M</td>\n",
       "      <td>1,965.00</td>\n",
       "      <td>40.00</td>\n",
       "      <td>White</td>\n",
       "      <td>Speeding</td>\n",
       "      <td>Speeding</td>\n",
       "      <td>False</td>\n",
       "      <td>NaN</td>\n",
       "      <td>Citation</td>\n",
       "      <td>False</td>\n",
       "      <td>0-15 Min</td>\n",
       "      <td>False</td>\n",
       "    </tr>\n",
       "    <tr>\n",
       "      <th>2</th>\n",
       "      <td>2005-01-23</td>\n",
       "      <td>23:15</td>\n",
       "      <td>M</td>\n",
       "      <td>1,972.00</td>\n",
       "      <td>33.00</td>\n",
       "      <td>White</td>\n",
       "      <td>Speeding</td>\n",
       "      <td>Speeding</td>\n",
       "      <td>False</td>\n",
       "      <td>NaN</td>\n",
       "      <td>Citation</td>\n",
       "      <td>False</td>\n",
       "      <td>0-15 Min</td>\n",
       "      <td>False</td>\n",
       "    </tr>\n",
       "    <tr>\n",
       "      <th>3</th>\n",
       "      <td>2005-02-20</td>\n",
       "      <td>17:15</td>\n",
       "      <td>M</td>\n",
       "      <td>1,986.00</td>\n",
       "      <td>19.00</td>\n",
       "      <td>White</td>\n",
       "      <td>Call for Service</td>\n",
       "      <td>Other</td>\n",
       "      <td>False</td>\n",
       "      <td>NaN</td>\n",
       "      <td>Arrest Driver</td>\n",
       "      <td>True</td>\n",
       "      <td>16-30 Min</td>\n",
       "      <td>False</td>\n",
       "    </tr>\n",
       "    <tr>\n",
       "      <th>4</th>\n",
       "      <td>2005-03-14</td>\n",
       "      <td>10:00</td>\n",
       "      <td>F</td>\n",
       "      <td>1,984.00</td>\n",
       "      <td>21.00</td>\n",
       "      <td>White</td>\n",
       "      <td>Speeding</td>\n",
       "      <td>Speeding</td>\n",
       "      <td>False</td>\n",
       "      <td>NaN</td>\n",
       "      <td>Citation</td>\n",
       "      <td>False</td>\n",
       "      <td>0-15 Min</td>\n",
       "      <td>False</td>\n",
       "    </tr>\n",
       "  </tbody>\n",
       "</table>\n",
       "</div>"
      ],
      "text/plain": [
       "    stop_date stop_time driver_gender  driver_age_raw  driver_age driver_race  \\\n",
       "0  2005-01-02     01:55             M        1,985.00       20.00       White   \n",
       "1  2005-01-18     08:15             M        1,965.00       40.00       White   \n",
       "2  2005-01-23     23:15             M        1,972.00       33.00       White   \n",
       "3  2005-02-20     17:15             M        1,986.00       19.00       White   \n",
       "4  2005-03-14     10:00             F        1,984.00       21.00       White   \n",
       "\n",
       "      violation_raw violation  search_conducted search_type   stop_outcome  \\\n",
       "0          Speeding  Speeding             False         NaN       Citation   \n",
       "1          Speeding  Speeding             False         NaN       Citation   \n",
       "2          Speeding  Speeding             False         NaN       Citation   \n",
       "3  Call for Service     Other             False         NaN  Arrest Driver   \n",
       "4          Speeding  Speeding             False         NaN       Citation   \n",
       "\n",
       "  is_arrested stop_duration  drugs_related_stop  \n",
       "0       False      0-15 Min               False  \n",
       "1       False      0-15 Min               False  \n",
       "2       False      0-15 Min               False  \n",
       "3        True     16-30 Min               False  \n",
       "4       False      0-15 Min               False  "
      ]
     },
     "execution_count": 111,
     "metadata": {},
     "output_type": "execute_result"
    }
   ],
   "source": [
    "ri.head()"
   ]
  },
  {
   "cell_type": "code",
   "execution_count": 112,
   "metadata": {},
   "outputs": [
    {
     "data": {
      "text/plain": [
       "M   0.68\n",
       "F   0.32\n",
       "Name: driver_gender, dtype: float64"
      ]
     },
     "execution_count": 112,
     "metadata": {},
     "output_type": "execute_result"
    }
   ],
   "source": [
    "ri[ri.violation == \"Speeding\"].driver_gender.value_counts(normalize = True)"
   ]
  },
  {
   "cell_type": "code",
   "execution_count": 115,
   "metadata": {},
   "outputs": [
    {
     "data": {
      "text/plain": [
       "0        M\n",
       "1        M\n",
       "2        M\n",
       "4        F\n",
       "6        M\n",
       "7        F\n",
       "8        M\n",
       "9        M\n",
       "10       M\n",
       "11       F\n",
       "12       M\n",
       "13       F\n",
       "14       M\n",
       "15       M\n",
       "16       M\n",
       "18       M\n",
       "19       F\n",
       "20       F\n",
       "23       F\n",
       "26       M\n",
       "27       F\n",
       "28       M\n",
       "31       M\n",
       "32       M\n",
       "34       M\n",
       "36       F\n",
       "37       M\n",
       "38       M\n",
       "39       M\n",
       "43       M\n",
       "        ..\n",
       "91676    F\n",
       "91678    M\n",
       "91679    M\n",
       "91681    M\n",
       "91695    M\n",
       "91697    F\n",
       "91699    F\n",
       "91700    F\n",
       "91701    F\n",
       "91702    M\n",
       "91711    M\n",
       "91712    F\n",
       "91714    M\n",
       "91715    F\n",
       "91717    F\n",
       "91720    M\n",
       "91721    M\n",
       "91722    M\n",
       "91724    M\n",
       "91725    F\n",
       "91726    M\n",
       "91727    F\n",
       "91728    F\n",
       "91731    F\n",
       "91732    F\n",
       "91734    M\n",
       "91735    M\n",
       "91736    M\n",
       "91739    M\n",
       "91740    M\n",
       "Name: driver_gender, Length: 48463, dtype: object"
      ]
     },
     "execution_count": 115,
     "metadata": {},
     "output_type": "execute_result"
    }
   ],
   "source": [
    "ri.loc[ri.violation == 'Speeding', 'driver_gender'].value_counts(normalize = True)"
   ]
  },
  {
   "cell_type": "code",
   "execution_count": 116,
   "metadata": {},
   "outputs": [
    {
     "data": {
      "text/plain": [
       "Speeding               32979\n",
       "Moving violation       13020\n",
       "Equipment               8533\n",
       "Other                   3627\n",
       "Registration/plates     2419\n",
       "Seat belt               2317\n",
       "Name: violation, dtype: int64"
      ]
     },
     "execution_count": 116,
     "metadata": {},
     "output_type": "execute_result"
    }
   ],
   "source": [
    "ri.loc[ri.driver_gender == 'M', 'violation'].value_counts()"
   ]
  },
  {
   "cell_type": "code",
   "execution_count": 118,
   "metadata": {},
   "outputs": [
    {
     "data": {
      "text/plain": [
       "Speeding               32979\n",
       "Moving violation       13020\n",
       "Equipment               8533\n",
       "Other                   3627\n",
       "Registration/plates     2419\n",
       "Seat belt               2317\n",
       "Name: violation, dtype: int64"
      ]
     },
     "execution_count": 118,
     "metadata": {},
     "output_type": "execute_result"
    }
   ],
   "source": [
    "ri[ri.driver_gender == 'M'].violation.value_counts()"
   ]
  },
  {
   "cell_type": "code",
   "execution_count": 119,
   "metadata": {},
   "outputs": [
    {
     "data": {
      "text/plain": [
       "driver_gender  violation          \n",
       "F              Speeding              0.66\n",
       "               Moving violation      0.14\n",
       "               Equipment             0.11\n",
       "               Registration/plates   0.04\n",
       "               Other                 0.03\n",
       "               Seat belt             0.03\n",
       "M              Speeding              0.52\n",
       "               Moving violation      0.21\n",
       "               Equipment             0.14\n",
       "               Other                 0.06\n",
       "               Registration/plates   0.04\n",
       "               Seat belt             0.04\n",
       "Name: violation, dtype: float64"
      ]
     },
     "execution_count": 119,
     "metadata": {},
     "output_type": "execute_result"
    }
   ],
   "source": [
    "ri.groupby('driver_gender').violation.value_counts(normalize = True)"
   ]
  },
  {
   "cell_type": "code",
   "execution_count": 120,
   "metadata": {},
   "outputs": [
    {
     "data": {
      "text/plain": [
       "False   0.97\n",
       "True    0.03\n",
       "Name: search_conducted, dtype: float64"
      ]
     },
     "execution_count": 120,
     "metadata": {},
     "output_type": "execute_result"
    }
   ],
   "source": [
    "ri.search_conducted.value_counts(normalize = True)"
   ]
  },
  {
   "cell_type": "code",
   "execution_count": 121,
   "metadata": {},
   "outputs": [
    {
     "data": {
      "text/plain": [
       "0.03483720473942948"
      ]
     },
     "execution_count": 121,
     "metadata": {},
     "output_type": "execute_result"
    }
   ],
   "source": [
    "ri.search_conducted.mean()"
   ]
  },
  {
   "cell_type": "code",
   "execution_count": 122,
   "metadata": {},
   "outputs": [
    {
     "data": {
      "text/plain": [
       "driver_gender\n",
       "F   0.02\n",
       "M   0.04\n",
       "Name: search_conducted, dtype: float64"
      ]
     },
     "execution_count": 122,
     "metadata": {},
     "output_type": "execute_result"
    }
   ],
   "source": [
    "ri.groupby('driver_gender').search_conducted.mean()"
   ]
  },
  {
   "cell_type": "code",
   "execution_count": 123,
   "metadata": {},
   "outputs": [
    {
     "data": {
      "text/plain": [
       "violation            driver_gender\n",
       "Equipment            F               0.04\n",
       "                     M               0.07\n",
       "Moving violation     F               0.04\n",
       "                     M               0.06\n",
       "Other                F               0.06\n",
       "                     M               0.05\n",
       "Registration/plates  F               0.07\n",
       "                     M               0.11\n",
       "Seat belt            F               0.01\n",
       "                     M               0.04\n",
       "Speeding             F               0.01\n",
       "                     M               0.02\n",
       "Name: search_conducted, dtype: float64"
      ]
     },
     "execution_count": 123,
     "metadata": {},
     "output_type": "execute_result"
    }
   ],
   "source": [
    "ri.groupby(['violation', 'driver_gender']).search_conducted.mean()"
   ]
  },
  {
   "cell_type": "code",
   "execution_count": 125,
   "metadata": {},
   "outputs": [
    {
     "data": {
      "text/plain": [
       "stop_date                 0\n",
       "stop_time                 0\n",
       "driver_gender          5335\n",
       "driver_age_raw         5327\n",
       "driver_age             5621\n",
       "driver_race            5333\n",
       "violation_raw          5333\n",
       "violation              5333\n",
       "search_conducted          0\n",
       "search_type           88545\n",
       "stop_outcome           5333\n",
       "is_arrested            5333\n",
       "stop_duration          5333\n",
       "drugs_related_stop        0\n",
       "dtype: int64"
      ]
     },
     "execution_count": 125,
     "metadata": {},
     "output_type": "execute_result"
    }
   ],
   "source": [
    "ri.isnull().sum()"
   ]
  },
  {
   "cell_type": "code",
   "execution_count": 128,
   "metadata": {},
   "outputs": [
    {
     "data": {
      "text/plain": [
       "False    88545\n",
       "True      3196\n",
       "Name: search_conducted, dtype: int64"
      ]
     },
     "execution_count": 128,
     "metadata": {},
     "output_type": "execute_result"
    }
   ],
   "source": [
    "ri.search_conducted.value_counts()"
   ]
  },
  {
   "cell_type": "code",
   "execution_count": 130,
   "metadata": {},
   "outputs": [
    {
     "data": {
      "text/plain": [
       "Series([], Name: search_type, dtype: int64)"
      ]
     },
     "execution_count": 130,
     "metadata": {},
     "output_type": "execute_result"
    }
   ],
   "source": [
    "ri[ri.search_conducted == False].search_type.value_counts()"
   ]
  },
  {
   "cell_type": "code",
   "execution_count": 131,
   "metadata": {},
   "outputs": [
    {
     "data": {
      "text/plain": [
       "nan    88545\n",
       "Name: search_type, dtype: int64"
      ]
     },
     "execution_count": 131,
     "metadata": {},
     "output_type": "execute_result"
    }
   ],
   "source": [
    "ri[ri.search_conducted == False].search_type.value_counts(dropna = False)"
   ]
  },
  {
   "cell_type": "code",
   "execution_count": 132,
   "metadata": {},
   "outputs": [
    {
     "data": {
      "text/plain": [
       "Incident to Arrest                                          1219\n",
       "Probable Cause                                               891\n",
       "Inventory                                                    220\n",
       "Reasonable Suspicion                                         197\n",
       "Protective Frisk                                             161\n",
       "Incident to Arrest,Inventory                                 129\n",
       "Incident to Arrest,Probable Cause                            106\n",
       "Probable Cause,Reasonable Suspicion                           75\n",
       "Incident to Arrest,Inventory,Probable Cause                   34\n",
       "Incident to Arrest,Protective Frisk                           33\n",
       "Probable Cause,Protective Frisk                               33\n",
       "Inventory,Probable Cause                                      22\n",
       "Incident to Arrest,Reasonable Suspicion                       13\n",
       "Inventory,Protective Frisk                                    11\n",
       "Protective Frisk,Reasonable Suspicion                         11\n",
       "Incident to Arrest,Inventory,Protective Frisk                 11\n",
       "Incident to Arrest,Probable Cause,Protective Frisk            10\n",
       "Incident to Arrest,Probable Cause,Reasonable Suspicion         6\n",
       "Inventory,Reasonable Suspicion                                 4\n",
       "Incident to Arrest,Inventory,Reasonable Suspicion              4\n",
       "Inventory,Probable Cause,Protective Frisk                      2\n",
       "Inventory,Probable Cause,Reasonable Suspicion                  2\n",
       "Incident to Arrest,Protective Frisk,Reasonable Suspicion       1\n",
       "Probable Cause,Protective Frisk,Reasonable Suspicion           1\n",
       "Name: search_type, dtype: int64"
      ]
     },
     "execution_count": 132,
     "metadata": {},
     "output_type": "execute_result"
    }
   ],
   "source": [
    "ri[ri.search_conducted == True].search_type.value_counts(dropna=False)"
   ]
  },
  {
   "cell_type": "code",
   "execution_count": 135,
   "metadata": {},
   "outputs": [
    {
     "data": {
      "text/html": [
       "<div>\n",
       "<style>\n",
       "    .dataframe thead tr:only-child th {\n",
       "        text-align: right;\n",
       "    }\n",
       "\n",
       "    .dataframe thead th {\n",
       "        text-align: left;\n",
       "    }\n",
       "\n",
       "    .dataframe tbody tr th {\n",
       "        vertical-align: top;\n",
       "    }\n",
       "</style>\n",
       "<table border=\"1\" class=\"dataframe\">\n",
       "  <thead>\n",
       "    <tr style=\"text-align: right;\">\n",
       "      <th></th>\n",
       "      <th>stop_date</th>\n",
       "      <th>stop_time</th>\n",
       "      <th>driver_gender</th>\n",
       "      <th>driver_age_raw</th>\n",
       "      <th>driver_age</th>\n",
       "      <th>driver_race</th>\n",
       "      <th>violation_raw</th>\n",
       "      <th>violation</th>\n",
       "      <th>search_conducted</th>\n",
       "      <th>search_type</th>\n",
       "      <th>stop_outcome</th>\n",
       "      <th>is_arrested</th>\n",
       "      <th>stop_duration</th>\n",
       "      <th>drugs_related_stop</th>\n",
       "      <th>frisk</th>\n",
       "    </tr>\n",
       "  </thead>\n",
       "  <tbody>\n",
       "    <tr>\n",
       "      <th>91736</th>\n",
       "      <td>2015-12-31</td>\n",
       "      <td>20:27</td>\n",
       "      <td>M</td>\n",
       "      <td>1,986.00</td>\n",
       "      <td>29.00</td>\n",
       "      <td>White</td>\n",
       "      <td>Speeding</td>\n",
       "      <td>Speeding</td>\n",
       "      <td>False</td>\n",
       "      <td>NaN</td>\n",
       "      <td>Warning</td>\n",
       "      <td>False</td>\n",
       "      <td>0-15 Min</td>\n",
       "      <td>False</td>\n",
       "      <td>False</td>\n",
       "    </tr>\n",
       "    <tr>\n",
       "      <th>91737</th>\n",
       "      <td>2015-12-31</td>\n",
       "      <td>20:35</td>\n",
       "      <td>F</td>\n",
       "      <td>1,982.00</td>\n",
       "      <td>33.00</td>\n",
       "      <td>White</td>\n",
       "      <td>Equipment/Inspection Violation</td>\n",
       "      <td>Equipment</td>\n",
       "      <td>False</td>\n",
       "      <td>NaN</td>\n",
       "      <td>Warning</td>\n",
       "      <td>False</td>\n",
       "      <td>0-15 Min</td>\n",
       "      <td>False</td>\n",
       "      <td>False</td>\n",
       "    </tr>\n",
       "    <tr>\n",
       "      <th>91738</th>\n",
       "      <td>2015-12-31</td>\n",
       "      <td>20:45</td>\n",
       "      <td>M</td>\n",
       "      <td>1,992.00</td>\n",
       "      <td>23.00</td>\n",
       "      <td>White</td>\n",
       "      <td>Other Traffic Violation</td>\n",
       "      <td>Moving violation</td>\n",
       "      <td>False</td>\n",
       "      <td>NaN</td>\n",
       "      <td>Warning</td>\n",
       "      <td>False</td>\n",
       "      <td>0-15 Min</td>\n",
       "      <td>False</td>\n",
       "      <td>False</td>\n",
       "    </tr>\n",
       "    <tr>\n",
       "      <th>91739</th>\n",
       "      <td>2015-12-31</td>\n",
       "      <td>21:42</td>\n",
       "      <td>M</td>\n",
       "      <td>1,993.00</td>\n",
       "      <td>22.00</td>\n",
       "      <td>White</td>\n",
       "      <td>Speeding</td>\n",
       "      <td>Speeding</td>\n",
       "      <td>False</td>\n",
       "      <td>NaN</td>\n",
       "      <td>Citation</td>\n",
       "      <td>False</td>\n",
       "      <td>0-15 Min</td>\n",
       "      <td>False</td>\n",
       "      <td>False</td>\n",
       "    </tr>\n",
       "    <tr>\n",
       "      <th>91740</th>\n",
       "      <td>2015-12-31</td>\n",
       "      <td>22:46</td>\n",
       "      <td>M</td>\n",
       "      <td>1,959.00</td>\n",
       "      <td>56.00</td>\n",
       "      <td>Hispanic</td>\n",
       "      <td>Speeding</td>\n",
       "      <td>Speeding</td>\n",
       "      <td>False</td>\n",
       "      <td>NaN</td>\n",
       "      <td>Citation</td>\n",
       "      <td>False</td>\n",
       "      <td>0-15 Min</td>\n",
       "      <td>False</td>\n",
       "      <td>False</td>\n",
       "    </tr>\n",
       "  </tbody>\n",
       "</table>\n",
       "</div>"
      ],
      "text/plain": [
       "        stop_date stop_time driver_gender  driver_age_raw  driver_age  \\\n",
       "91736  2015-12-31     20:27             M        1,986.00       29.00   \n",
       "91737  2015-12-31     20:35             F        1,982.00       33.00   \n",
       "91738  2015-12-31     20:45             M        1,992.00       23.00   \n",
       "91739  2015-12-31     21:42             M        1,993.00       22.00   \n",
       "91740  2015-12-31     22:46             M        1,959.00       56.00   \n",
       "\n",
       "      driver_race                   violation_raw         violation  \\\n",
       "91736       White                        Speeding          Speeding   \n",
       "91737       White  Equipment/Inspection Violation         Equipment   \n",
       "91738       White         Other Traffic Violation  Moving violation   \n",
       "91739       White                        Speeding          Speeding   \n",
       "91740    Hispanic                        Speeding          Speeding   \n",
       "\n",
       "       search_conducted search_type stop_outcome is_arrested stop_duration  \\\n",
       "91736             False         NaN      Warning       False      0-15 Min   \n",
       "91737             False         NaN      Warning       False      0-15 Min   \n",
       "91738             False         NaN      Warning       False      0-15 Min   \n",
       "91739             False         NaN     Citation       False      0-15 Min   \n",
       "91740             False         NaN     Citation       False      0-15 Min   \n",
       "\n",
       "       drugs_related_stop  frisk  \n",
       "91736               False  False  \n",
       "91737               False  False  \n",
       "91738               False  False  \n",
       "91739               False  False  \n",
       "91740               False  False  "
      ]
     },
     "execution_count": 135,
     "metadata": {},
     "output_type": "execute_result"
    }
   ],
   "source": [
    "ri['frisk'] = ri.search_type == 'Protective Frisk'\n",
    "ri.tail()"
   ]
  },
  {
   "cell_type": "code",
   "execution_count": 136,
   "metadata": {},
   "outputs": [
    {
     "data": {
      "text/plain": [
       "161"
      ]
     },
     "execution_count": 136,
     "metadata": {},
     "output_type": "execute_result"
    }
   ],
   "source": [
    "ri.frisk.sum()"
   ]
  },
  {
   "cell_type": "code",
   "execution_count": 137,
   "metadata": {},
   "outputs": [
    {
     "data": {
      "text/plain": [
       "0.0017549405391264537"
      ]
     },
     "execution_count": 137,
     "metadata": {},
     "output_type": "execute_result"
    }
   ],
   "source": [
    "ri.frisk.mean()"
   ]
  },
  {
   "cell_type": "code",
   "execution_count": 138,
   "metadata": {},
   "outputs": [
    {
     "data": {
      "text/plain": [
       "False    91580\n",
       "True       161\n",
       "Name: frisk, dtype: int64"
      ]
     },
     "execution_count": 138,
     "metadata": {},
     "output_type": "execute_result"
    }
   ],
   "source": [
    "ri.frisk.value_counts()"
   ]
  },
  {
   "cell_type": "code",
   "execution_count": 139,
   "metadata": {
    "collapsed": true
   },
   "outputs": [],
   "source": [
    "ri['frisk'] = ri.search_type.str.contains('Protective Frisk')"
   ]
  },
  {
   "cell_type": "code",
   "execution_count": 140,
   "metadata": {},
   "outputs": [
    {
     "data": {
      "text/plain": [
       "274"
      ]
     },
     "execution_count": 140,
     "metadata": {},
     "output_type": "execute_result"
    }
   ],
   "source": [
    "ri.frisk.sum()"
   ]
  },
  {
   "cell_type": "code",
   "execution_count": 141,
   "metadata": {},
   "outputs": [
    {
     "data": {
      "text/plain": [
       "NaN      88545\n",
       "False     2922\n",
       "True       274\n",
       "Name: frisk, dtype: int64"
      ]
     },
     "execution_count": 141,
     "metadata": {},
     "output_type": "execute_result"
    }
   ],
   "source": [
    "ri.frisk.value_counts(dropna=False)"
   ]
  },
  {
   "cell_type": "code",
   "execution_count": 142,
   "metadata": {},
   "outputs": [
    {
     "data": {
      "text/plain": [
       "0.08573216520650813"
      ]
     },
     "execution_count": 142,
     "metadata": {},
     "output_type": "execute_result"
    }
   ],
   "source": [
    "274/(274 + 2922)"
   ]
  },
  {
   "cell_type": "code",
   "execution_count": 144,
   "metadata": {},
   "outputs": [
    {
     "data": {
      "text/html": [
       "<div>\n",
       "<style>\n",
       "    .dataframe thead tr:only-child th {\n",
       "        text-align: right;\n",
       "    }\n",
       "\n",
       "    .dataframe thead th {\n",
       "        text-align: left;\n",
       "    }\n",
       "\n",
       "    .dataframe tbody tr th {\n",
       "        vertical-align: top;\n",
       "    }\n",
       "</style>\n",
       "<table border=\"1\" class=\"dataframe\">\n",
       "  <thead>\n",
       "    <tr style=\"text-align: right;\">\n",
       "      <th></th>\n",
       "      <th>stop_date</th>\n",
       "      <th>stop_time</th>\n",
       "      <th>driver_gender</th>\n",
       "      <th>driver_age_raw</th>\n",
       "      <th>driver_age</th>\n",
       "      <th>driver_race</th>\n",
       "      <th>violation_raw</th>\n",
       "      <th>violation</th>\n",
       "      <th>search_conducted</th>\n",
       "      <th>search_type</th>\n",
       "      <th>stop_outcome</th>\n",
       "      <th>is_arrested</th>\n",
       "      <th>stop_duration</th>\n",
       "      <th>drugs_related_stop</th>\n",
       "      <th>frisk</th>\n",
       "    </tr>\n",
       "  </thead>\n",
       "  <tbody>\n",
       "    <tr>\n",
       "      <th>0</th>\n",
       "      <td>2005-01-02</td>\n",
       "      <td>01:55</td>\n",
       "      <td>M</td>\n",
       "      <td>1,985.00</td>\n",
       "      <td>20.00</td>\n",
       "      <td>White</td>\n",
       "      <td>Speeding</td>\n",
       "      <td>Speeding</td>\n",
       "      <td>False</td>\n",
       "      <td>NaN</td>\n",
       "      <td>Citation</td>\n",
       "      <td>False</td>\n",
       "      <td>0-15 Min</td>\n",
       "      <td>False</td>\n",
       "      <td>NaN</td>\n",
       "    </tr>\n",
       "    <tr>\n",
       "      <th>1</th>\n",
       "      <td>2005-01-18</td>\n",
       "      <td>08:15</td>\n",
       "      <td>M</td>\n",
       "      <td>1,965.00</td>\n",
       "      <td>40.00</td>\n",
       "      <td>White</td>\n",
       "      <td>Speeding</td>\n",
       "      <td>Speeding</td>\n",
       "      <td>False</td>\n",
       "      <td>NaN</td>\n",
       "      <td>Citation</td>\n",
       "      <td>False</td>\n",
       "      <td>0-15 Min</td>\n",
       "      <td>False</td>\n",
       "      <td>NaN</td>\n",
       "    </tr>\n",
       "    <tr>\n",
       "      <th>2</th>\n",
       "      <td>2005-01-23</td>\n",
       "      <td>23:15</td>\n",
       "      <td>M</td>\n",
       "      <td>1,972.00</td>\n",
       "      <td>33.00</td>\n",
       "      <td>White</td>\n",
       "      <td>Speeding</td>\n",
       "      <td>Speeding</td>\n",
       "      <td>False</td>\n",
       "      <td>NaN</td>\n",
       "      <td>Citation</td>\n",
       "      <td>False</td>\n",
       "      <td>0-15 Min</td>\n",
       "      <td>False</td>\n",
       "      <td>NaN</td>\n",
       "    </tr>\n",
       "    <tr>\n",
       "      <th>3</th>\n",
       "      <td>2005-02-20</td>\n",
       "      <td>17:15</td>\n",
       "      <td>M</td>\n",
       "      <td>1,986.00</td>\n",
       "      <td>19.00</td>\n",
       "      <td>White</td>\n",
       "      <td>Call for Service</td>\n",
       "      <td>Other</td>\n",
       "      <td>False</td>\n",
       "      <td>NaN</td>\n",
       "      <td>Arrest Driver</td>\n",
       "      <td>True</td>\n",
       "      <td>16-30 Min</td>\n",
       "      <td>False</td>\n",
       "      <td>NaN</td>\n",
       "    </tr>\n",
       "    <tr>\n",
       "      <th>4</th>\n",
       "      <td>2005-03-14</td>\n",
       "      <td>10:00</td>\n",
       "      <td>F</td>\n",
       "      <td>1,984.00</td>\n",
       "      <td>21.00</td>\n",
       "      <td>White</td>\n",
       "      <td>Speeding</td>\n",
       "      <td>Speeding</td>\n",
       "      <td>False</td>\n",
       "      <td>NaN</td>\n",
       "      <td>Citation</td>\n",
       "      <td>False</td>\n",
       "      <td>0-15 Min</td>\n",
       "      <td>False</td>\n",
       "      <td>NaN</td>\n",
       "    </tr>\n",
       "  </tbody>\n",
       "</table>\n",
       "</div>"
      ],
      "text/plain": [
       "    stop_date stop_time driver_gender  driver_age_raw  driver_age driver_race  \\\n",
       "0  2005-01-02     01:55             M        1,985.00       20.00       White   \n",
       "1  2005-01-18     08:15             M        1,965.00       40.00       White   \n",
       "2  2005-01-23     23:15             M        1,972.00       33.00       White   \n",
       "3  2005-02-20     17:15             M        1,986.00       19.00       White   \n",
       "4  2005-03-14     10:00             F        1,984.00       21.00       White   \n",
       "\n",
       "      violation_raw violation  search_conducted search_type   stop_outcome  \\\n",
       "0          Speeding  Speeding             False         NaN       Citation   \n",
       "1          Speeding  Speeding             False         NaN       Citation   \n",
       "2          Speeding  Speeding             False         NaN       Citation   \n",
       "3  Call for Service     Other             False         NaN  Arrest Driver   \n",
       "4          Speeding  Speeding             False         NaN       Citation   \n",
       "\n",
       "  is_arrested stop_duration  drugs_related_stop frisk  \n",
       "0       False      0-15 Min               False   NaN  \n",
       "1       False      0-15 Min               False   NaN  \n",
       "2       False      0-15 Min               False   NaN  \n",
       "3        True     16-30 Min               False   NaN  \n",
       "4       False      0-15 Min               False   NaN  "
      ]
     },
     "execution_count": 144,
     "metadata": {},
     "output_type": "execute_result"
    }
   ],
   "source": [
    "ri.head()"
   ]
  },
  {
   "cell_type": "code",
   "execution_count": 150,
   "metadata": {},
   "outputs": [
    {
     "data": {
      "text/plain": [
       "2012    10970\n",
       "2006    10639\n",
       "2007     9476\n",
       "2014     9228\n",
       "2008     8752\n",
       "2015     8599\n",
       "2011     8126\n",
       "2013     7924\n",
       "2009     7908\n",
       "2010     7561\n",
       "2005     2558\n",
       "Name: stop_date, dtype: int64"
      ]
     },
     "execution_count": 150,
     "metadata": {},
     "output_type": "execute_result"
    }
   ],
   "source": [
    "ri.stop_date.str.slice(0,4).value_counts()"
   ]
  },
  {
   "cell_type": "code",
   "execution_count": 151,
   "metadata": {},
   "outputs": [
    {
     "data": {
      "text/html": [
       "<div>\n",
       "<style>\n",
       "    .dataframe thead tr:only-child th {\n",
       "        text-align: right;\n",
       "    }\n",
       "\n",
       "    .dataframe thead th {\n",
       "        text-align: left;\n",
       "    }\n",
       "\n",
       "    .dataframe tbody tr th {\n",
       "        vertical-align: top;\n",
       "    }\n",
       "</style>\n",
       "<table border=\"1\" class=\"dataframe\">\n",
       "  <thead>\n",
       "    <tr style=\"text-align: right;\">\n",
       "      <th></th>\n",
       "      <th>stop_date</th>\n",
       "      <th>stop_time</th>\n",
       "      <th>driver_gender</th>\n",
       "      <th>driver_age_raw</th>\n",
       "      <th>driver_age</th>\n",
       "      <th>driver_race</th>\n",
       "      <th>violation_raw</th>\n",
       "      <th>...</th>\n",
       "      <th>search_type</th>\n",
       "      <th>stop_outcome</th>\n",
       "      <th>is_arrested</th>\n",
       "      <th>stop_duration</th>\n",
       "      <th>drugs_related_stop</th>\n",
       "      <th>frisk</th>\n",
       "      <th>stop_datetime</th>\n",
       "    </tr>\n",
       "  </thead>\n",
       "  <tbody>\n",
       "    <tr>\n",
       "      <th>0</th>\n",
       "      <td>2005-01-02</td>\n",
       "      <td>01:55</td>\n",
       "      <td>M</td>\n",
       "      <td>1,985.00</td>\n",
       "      <td>20.00</td>\n",
       "      <td>White</td>\n",
       "      <td>Speeding</td>\n",
       "      <td>...</td>\n",
       "      <td>NaN</td>\n",
       "      <td>Citation</td>\n",
       "      <td>False</td>\n",
       "      <td>0-15 Min</td>\n",
       "      <td>False</td>\n",
       "      <td>NaN</td>\n",
       "      <td>2005-01-02 01:55:00</td>\n",
       "    </tr>\n",
       "    <tr>\n",
       "      <th>1</th>\n",
       "      <td>2005-01-18</td>\n",
       "      <td>08:15</td>\n",
       "      <td>M</td>\n",
       "      <td>1,965.00</td>\n",
       "      <td>40.00</td>\n",
       "      <td>White</td>\n",
       "      <td>Speeding</td>\n",
       "      <td>...</td>\n",
       "      <td>NaN</td>\n",
       "      <td>Citation</td>\n",
       "      <td>False</td>\n",
       "      <td>0-15 Min</td>\n",
       "      <td>False</td>\n",
       "      <td>NaN</td>\n",
       "      <td>2005-01-18 08:15:00</td>\n",
       "    </tr>\n",
       "    <tr>\n",
       "      <th>2</th>\n",
       "      <td>2005-01-23</td>\n",
       "      <td>23:15</td>\n",
       "      <td>M</td>\n",
       "      <td>1,972.00</td>\n",
       "      <td>33.00</td>\n",
       "      <td>White</td>\n",
       "      <td>Speeding</td>\n",
       "      <td>...</td>\n",
       "      <td>NaN</td>\n",
       "      <td>Citation</td>\n",
       "      <td>False</td>\n",
       "      <td>0-15 Min</td>\n",
       "      <td>False</td>\n",
       "      <td>NaN</td>\n",
       "      <td>2005-01-23 23:15:00</td>\n",
       "    </tr>\n",
       "    <tr>\n",
       "      <th>3</th>\n",
       "      <td>2005-02-20</td>\n",
       "      <td>17:15</td>\n",
       "      <td>M</td>\n",
       "      <td>1,986.00</td>\n",
       "      <td>19.00</td>\n",
       "      <td>White</td>\n",
       "      <td>Call for Service</td>\n",
       "      <td>...</td>\n",
       "      <td>NaN</td>\n",
       "      <td>Arrest Driver</td>\n",
       "      <td>True</td>\n",
       "      <td>16-30 Min</td>\n",
       "      <td>False</td>\n",
       "      <td>NaN</td>\n",
       "      <td>2005-02-20 17:15:00</td>\n",
       "    </tr>\n",
       "    <tr>\n",
       "      <th>4</th>\n",
       "      <td>2005-03-14</td>\n",
       "      <td>10:00</td>\n",
       "      <td>F</td>\n",
       "      <td>1,984.00</td>\n",
       "      <td>21.00</td>\n",
       "      <td>White</td>\n",
       "      <td>Speeding</td>\n",
       "      <td>...</td>\n",
       "      <td>NaN</td>\n",
       "      <td>Citation</td>\n",
       "      <td>False</td>\n",
       "      <td>0-15 Min</td>\n",
       "      <td>False</td>\n",
       "      <td>NaN</td>\n",
       "      <td>2005-03-14 10:00:00</td>\n",
       "    </tr>\n",
       "  </tbody>\n",
       "</table>\n",
       "<p>5 rows × 16 columns</p>\n",
       "</div>"
      ],
      "text/plain": [
       "    stop_date stop_time driver_gender  driver_age_raw  driver_age driver_race  \\\n",
       "0  2005-01-02     01:55             M        1,985.00       20.00       White   \n",
       "1  2005-01-18     08:15             M        1,965.00       40.00       White   \n",
       "2  2005-01-23     23:15             M        1,972.00       33.00       White   \n",
       "3  2005-02-20     17:15             M        1,986.00       19.00       White   \n",
       "4  2005-03-14     10:00             F        1,984.00       21.00       White   \n",
       "\n",
       "      violation_raw         ...         search_type   stop_outcome  \\\n",
       "0          Speeding         ...                 NaN       Citation   \n",
       "1          Speeding         ...                 NaN       Citation   \n",
       "2          Speeding         ...                 NaN       Citation   \n",
       "3  Call for Service         ...                 NaN  Arrest Driver   \n",
       "4          Speeding         ...                 NaN       Citation   \n",
       "\n",
       "  is_arrested stop_duration drugs_related_stop frisk       stop_datetime  \n",
       "0       False      0-15 Min              False   NaN 2005-01-02 01:55:00  \n",
       "1       False      0-15 Min              False   NaN 2005-01-18 08:15:00  \n",
       "2       False      0-15 Min              False   NaN 2005-01-23 23:15:00  \n",
       "3        True     16-30 Min              False   NaN 2005-02-20 17:15:00  \n",
       "4       False      0-15 Min              False   NaN 2005-03-14 10:00:00  \n",
       "\n",
       "[5 rows x 16 columns]"
      ]
     },
     "execution_count": 151,
     "metadata": {},
     "output_type": "execute_result"
    }
   ],
   "source": [
    "combined = ri.stop_date.str.cat(ri.stop_time, sep=' ')\n",
    "ri['stop_datetime'] = pd.to_datetime(combined)\n",
    "ri.head()"
   ]
  },
  {
   "cell_type": "code",
   "execution_count": 152,
   "metadata": {},
   "outputs": [
    {
     "data": {
      "text/plain": [
       "2012    10970\n",
       "2006    10639\n",
       "2007     9476\n",
       "2014     9228\n",
       "2008     8752\n",
       "2015     8599\n",
       "2011     8126\n",
       "2013     7924\n",
       "2009     7908\n",
       "2010     7561\n",
       "2005     2558\n",
       "Name: stop_datetime, dtype: int64"
      ]
     },
     "execution_count": 152,
     "metadata": {},
     "output_type": "execute_result"
    }
   ],
   "source": [
    "ri.stop_datetime.dt.year.value_counts()"
   ]
  },
  {
   "cell_type": "code",
   "execution_count": 153,
   "metadata": {},
   "outputs": [
    {
     "data": {
      "text/plain": [
       "dtype('bool')"
      ]
     },
     "execution_count": 153,
     "metadata": {},
     "output_type": "execute_result"
    }
   ],
   "source": [
    "ri.drugs_related_stop.dtype\n"
   ]
  },
  {
   "cell_type": "code",
   "execution_count": 154,
   "metadata": {},
   "outputs": [
    {
     "data": {
      "text/plain": [
       "0.008883705213590434"
      ]
     },
     "execution_count": 154,
     "metadata": {},
     "output_type": "execute_result"
    }
   ],
   "source": [
    "ri.drugs_related_stop.mean()"
   ]
  },
  {
   "cell_type": "code",
   "execution_count": 155,
   "metadata": {},
   "outputs": [
    {
     "data": {
      "text/plain": [
       "stop_datetime\n",
       "0    0.02\n",
       "1    0.01\n",
       "2    0.02\n",
       "3    0.02\n",
       "4    0.01\n",
       "5    0.00\n",
       "6    0.00\n",
       "7    0.00\n",
       "8    0.00\n",
       "9    0.01\n",
       "10   0.01\n",
       "11   0.01\n",
       "12   0.00\n",
       "13   0.01\n",
       "14   0.01\n",
       "15   0.01\n",
       "16   0.01\n",
       "17   0.01\n",
       "18   0.01\n",
       "19   0.01\n",
       "20   0.01\n",
       "21   0.01\n",
       "22   0.01\n",
       "23   0.02\n",
       "Name: drugs_related_stop, dtype: float64"
      ]
     },
     "execution_count": 155,
     "metadata": {},
     "output_type": "execute_result"
    }
   ],
   "source": [
    "ri.groupby(ri.stop_datetime.dt.hour).drugs_related_stop.mean()"
   ]
  },
  {
   "cell_type": "code",
   "execution_count": 157,
   "metadata": {},
   "outputs": [
    {
     "data": {
      "text/plain": [
       "<matplotlib.axes._subplots.AxesSubplot at 0x266fa5164a8>"
      ]
     },
     "execution_count": 157,
     "metadata": {},
     "output_type": "execute_result"
    },
    {
     "data": {
      "image/png": "[encoded data removed]",
      "text/plain": [
       "<matplotlib.figure.Figure at 0x266fa5f7208>"
      ]
     },
     "metadata": {},
     "output_type": "display_data"
    }
   ],
   "source": [
    "ri.groupby(ri.stop_datetime.dt.hour).drugs_related_stop.mean().plot()"
   ]
  },
  {
   "cell_type": "code",
   "execution_count": 159,
   "metadata": {},
   "outputs": [
    {
     "data": {
      "text/plain": [
       "<matplotlib.axes._subplots.AxesSubplot at 0x266f797f470>"
      ]
     },
     "execution_count": 159,
     "metadata": {},
     "output_type": "execute_result"
    },
    {
     "data": {
      "image/png": "[encoded data removed]",
      "text/plain": [
       "<matplotlib.figure.Figure at 0x266f7bf6ac8>"
      ]
     },
     "metadata": {},
     "output_type": "display_data"
    }
   ],
   "source": [
    "ri.groupby(ri.stop_datetime.dt.hour).drugs_related_stop.sum().plot()"
   ]
  },
  {
   "cell_type": "code",
   "execution_count": 160,
   "metadata": {},
   "outputs": [
    {
     "data": {
      "text/plain": [
       "10    7350\n",
       "9     6838\n",
       "11    5877\n",
       "14    5634\n",
       "23    5629\n",
       "0     5221\n",
       "8     5210\n",
       "13    4842\n",
       "15    4832\n",
       "7     4572\n",
       "1     4442\n",
       "16    3844\n",
       "12    3582\n",
       "22    3473\n",
       "20    3340\n",
       "6     3290\n",
       "2     2975\n",
       "17    2900\n",
       "19    2587\n",
       "18    2168\n",
       "21    1499\n",
       "3     1172\n",
       "4      254\n",
       "5      210\n",
       "Name: stop_datetime, dtype: int64"
      ]
     },
     "execution_count": 160,
     "metadata": {},
     "output_type": "execute_result"
    }
   ],
   "source": [
    "ri.stop_datetime.dt.hour.value_counts()"
   ]
  },
  {
   "cell_type": "code",
   "execution_count": 161,
   "metadata": {},
   "outputs": [
    {
     "data": {
      "text/plain": [
       "<matplotlib.axes._subplots.AxesSubplot at 0x266f7a06cc0>"
      ]
     },
     "execution_count": 161,
     "metadata": {},
     "output_type": "execute_result"
    },
    {
     "data": {
      "image/png": "[encoded data removed]",
      "text/plain": [
       "<matplotlib.figure.Figure at 0x266f557df98>"
      ]
     },
     "metadata": {},
     "output_type": "display_data"
    }
   ],
   "source": [
    "ri.stop_datetime.dt.hour.value_counts().plot()"
   ]
  },
  {
   "cell_type": "code",
   "execution_count": 165,
   "metadata": {},
   "outputs": [
    {
     "data": {
      "text/plain": [
       "<matplotlib.axes._subplots.AxesSubplot at 0x266f7c7ba20>"
      ]
     },
     "execution_count": 165,
     "metadata": {},
     "output_type": "execute_result"
    },
    {
     "data": {
      "image/png": "[encoded data removed]",
      "text/plain": [
       "<matplotlib.figure.Figure at 0x266f615f080>"
      ]
     },
     "metadata": {},
     "output_type": "display_data"
    }
   ],
   "source": [
    "ri.stop_datetime.dt.hour.value_counts().sort_index().plot()"
   ]
  },
  {
   "cell_type": "code",
   "execution_count": 167,
   "metadata": {},
   "outputs": [
    {
     "data": {
      "text/plain": [
       "<matplotlib.axes._subplots.AxesSubplot at 0x266f8099128>"
      ]
     },
     "execution_count": 167,
     "metadata": {},
     "output_type": "execute_result"
    },
    {
     "data": {
      "image/png": "[encoded data removed]",
      "text/plain": [
       "<matplotlib.figure.Figure at 0x266f7bccf28>"
      ]
     },
     "metadata": {},
     "output_type": "display_data"
    }
   ],
   "source": [
    "ri.groupby(ri.stop_datetime.dt.hour).stop_date.count().plot()"
   ]
  },
  {
   "cell_type": "code",
   "execution_count": 168,
   "metadata": {},
   "outputs": [
    {
     "data": {
      "text/html": [
       "<div>\n",
       "<style>\n",
       "    .dataframe thead tr:only-child th {\n",
       "        text-align: right;\n",
       "    }\n",
       "\n",
       "    .dataframe thead th {\n",
       "        text-align: left;\n",
       "    }\n",
       "\n",
       "    .dataframe tbody tr th {\n",
       "        vertical-align: top;\n",
       "    }\n",
       "</style>\n",
       "<table border=\"1\" class=\"dataframe\">\n",
       "  <thead>\n",
       "    <tr style=\"text-align: right;\">\n",
       "      <th></th>\n",
       "      <th>stop_date</th>\n",
       "      <th>stop_time</th>\n",
       "      <th>driver_gender</th>\n",
       "      <th>driver_age_raw</th>\n",
       "      <th>driver_age</th>\n",
       "      <th>driver_race</th>\n",
       "      <th>violation_raw</th>\n",
       "      <th>...</th>\n",
       "      <th>search_type</th>\n",
       "      <th>stop_outcome</th>\n",
       "      <th>is_arrested</th>\n",
       "      <th>stop_duration</th>\n",
       "      <th>drugs_related_stop</th>\n",
       "      <th>frisk</th>\n",
       "      <th>stop_datetime</th>\n",
       "    </tr>\n",
       "  </thead>\n",
       "  <tbody>\n",
       "    <tr>\n",
       "      <th>0</th>\n",
       "      <td>2005-01-02</td>\n",
       "      <td>01:55</td>\n",
       "      <td>M</td>\n",
       "      <td>1,985.00</td>\n",
       "      <td>20.00</td>\n",
       "      <td>White</td>\n",
       "      <td>Speeding</td>\n",
       "      <td>...</td>\n",
       "      <td>NaN</td>\n",
       "      <td>Citation</td>\n",
       "      <td>False</td>\n",
       "      <td>0-15 Min</td>\n",
       "      <td>False</td>\n",
       "      <td>NaN</td>\n",
       "      <td>2005-01-02 01:55:00</td>\n",
       "    </tr>\n",
       "    <tr>\n",
       "      <th>1</th>\n",
       "      <td>2005-01-18</td>\n",
       "      <td>08:15</td>\n",
       "      <td>M</td>\n",
       "      <td>1,965.00</td>\n",
       "      <td>40.00</td>\n",
       "      <td>White</td>\n",
       "      <td>Speeding</td>\n",
       "      <td>...</td>\n",
       "      <td>NaN</td>\n",
       "      <td>Citation</td>\n",
       "      <td>False</td>\n",
       "      <td>0-15 Min</td>\n",
       "      <td>False</td>\n",
       "      <td>NaN</td>\n",
       "      <td>2005-01-18 08:15:00</td>\n",
       "    </tr>\n",
       "    <tr>\n",
       "      <th>2</th>\n",
       "      <td>2005-01-23</td>\n",
       "      <td>23:15</td>\n",
       "      <td>M</td>\n",
       "      <td>1,972.00</td>\n",
       "      <td>33.00</td>\n",
       "      <td>White</td>\n",
       "      <td>Speeding</td>\n",
       "      <td>...</td>\n",
       "      <td>NaN</td>\n",
       "      <td>Citation</td>\n",
       "      <td>False</td>\n",
       "      <td>0-15 Min</td>\n",
       "      <td>False</td>\n",
       "      <td>NaN</td>\n",
       "      <td>2005-01-23 23:15:00</td>\n",
       "    </tr>\n",
       "    <tr>\n",
       "      <th>3</th>\n",
       "      <td>2005-02-20</td>\n",
       "      <td>17:15</td>\n",
       "      <td>M</td>\n",
       "      <td>1,986.00</td>\n",
       "      <td>19.00</td>\n",
       "      <td>White</td>\n",
       "      <td>Call for Service</td>\n",
       "      <td>...</td>\n",
       "      <td>NaN</td>\n",
       "      <td>Arrest Driver</td>\n",
       "      <td>True</td>\n",
       "      <td>16-30 Min</td>\n",
       "      <td>False</td>\n",
       "      <td>NaN</td>\n",
       "      <td>2005-02-20 17:15:00</td>\n",
       "    </tr>\n",
       "    <tr>\n",
       "      <th>4</th>\n",
       "      <td>2005-03-14</td>\n",
       "      <td>10:00</td>\n",
       "      <td>F</td>\n",
       "      <td>1,984.00</td>\n",
       "      <td>21.00</td>\n",
       "      <td>White</td>\n",
       "      <td>Speeding</td>\n",
       "      <td>...</td>\n",
       "      <td>NaN</td>\n",
       "      <td>Citation</td>\n",
       "      <td>False</td>\n",
       "      <td>0-15 Min</td>\n",
       "      <td>False</td>\n",
       "      <td>NaN</td>\n",
       "      <td>2005-03-14 10:00:00</td>\n",
       "    </tr>\n",
       "  </tbody>\n",
       "</table>\n",
       "<p>5 rows × 16 columns</p>\n",
       "</div>"
      ],
      "text/plain": [
       "    stop_date stop_time driver_gender  driver_age_raw  driver_age driver_race  \\\n",
       "0  2005-01-02     01:55             M        1,985.00       20.00       White   \n",
       "1  2005-01-18     08:15             M        1,965.00       40.00       White   \n",
       "2  2005-01-23     23:15             M        1,972.00       33.00       White   \n",
       "3  2005-02-20     17:15             M        1,986.00       19.00       White   \n",
       "4  2005-03-14     10:00             F        1,984.00       21.00       White   \n",
       "\n",
       "      violation_raw         ...         search_type   stop_outcome  \\\n",
       "0          Speeding         ...                 NaN       Citation   \n",
       "1          Speeding         ...                 NaN       Citation   \n",
       "2          Speeding         ...                 NaN       Citation   \n",
       "3  Call for Service         ...                 NaN  Arrest Driver   \n",
       "4          Speeding         ...                 NaN       Citation   \n",
       "\n",
       "  is_arrested stop_duration drugs_related_stop frisk       stop_datetime  \n",
       "0       False      0-15 Min              False   NaN 2005-01-02 01:55:00  \n",
       "1       False      0-15 Min              False   NaN 2005-01-18 08:15:00  \n",
       "2       False      0-15 Min              False   NaN 2005-01-23 23:15:00  \n",
       "3        True     16-30 Min              False   NaN 2005-02-20 17:15:00  \n",
       "4       False      0-15 Min              False   NaN 2005-03-14 10:00:00  \n",
       "\n",
       "[5 rows x 16 columns]"
      ]
     },
     "execution_count": 168,
     "metadata": {},
     "output_type": "execute_result"
    }
   ],
   "source": [
    "ri.head()"
   ]
  },
  {
   "cell_type": "code",
   "execution_count": 169,
   "metadata": {},
   "outputs": [
    {
     "data": {
      "text/plain": [
       "0-15 Min     69543\n",
       "16-30 Min    13635\n",
       "30+ Min       3228\n",
       "2                1\n",
       "1                1\n",
       "Name: stop_duration, dtype: int64"
      ]
     },
     "execution_count": 169,
     "metadata": {},
     "output_type": "execute_result"
    }
   ],
   "source": [
    "ri.stop_duration.value_counts()"
   ]
  },
  {
   "cell_type": "code",
   "execution_count": 170,
   "metadata": {
    "collapsed": true
   },
   "outputs": [],
   "source": [
    "ri.stop_duration.replace(['1', '2'], value=np.nan, inplace=True)"
   ]
  },
  {
   "cell_type": "code",
   "execution_count": 172,
   "metadata": {},
   "outputs": [
    {
     "data": {
      "text/plain": [
       "0-15 Min     69543\n",
       "16-30 Min    13635\n",
       "NaN           5335\n",
       "30+ Min       3228\n",
       "Name: stop_duration, dtype: int64"
      ]
     },
     "execution_count": 172,
     "metadata": {},
     "output_type": "execute_result"
    }
   ],
   "source": [
    "ri.stop_duration.value_counts(dropna= False)"
   ]
  },
  {
   "cell_type": "code",
   "execution_count": null,
   "metadata": {
    "collapsed": true
   },
   "outputs": [],
   "source": []
  }
 ],
 "metadata": {
  "kernelspec": {
   "display_name": "Python 3",
   "language": "python",
   "name": "python3"
  },
  "language_info": {
   "codemirror_mode": {
    "name": "ipython",
    "version": 3
   },
   "file_extension": ".py",
   "mimetype": "text/x-python",
   "name": "python",
   "nbconvert_exporter": "python",
   "pygments_lexer": "ipython3",
   "version": "3.6.1"
  }
 },
 "nbformat": 4,
 "nbformat_minor": 2
}
